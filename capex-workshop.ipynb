{
 "cells": [
  {
   "cell_type": "code",
   "execution_count": null,
   "id": "820403c9",
   "metadata": {},
   "outputs": [],
   "source": [
    "# Clone the repository\n",
    "!git clone https://github.com/Atuxen/colorbot-workshop.git\n",
    "%cd colorbot-workshop"
   ]
  },
  {
   "cell_type": "code",
   "execution_count": null,
   "id": "9cffaf0d",
   "metadata": {},
   "outputs": [],
   "source": [
    "!pip install ."
   ]
  },
  {
   "cell_type": "code",
   "execution_count": null,
   "id": "de7dbb1c",
   "metadata": {},
   "outputs": [],
   "source": [
    "%load_ext autoreload\n",
    "%autoreload 2\n",
    "from pump_controller import PumpController, get_serial_port, list_serial_ports\n",
    "from pump_controller import visualize_rgb, visualize_candidates\n",
    "import time\n",
    "import numpy as np\n",
    "print(\"Initialization finished!\")"
   ]
  },
  {
   "cell_type": "code",
   "execution_count": null,
   "id": "6fa76023",
   "metadata": {},
   "outputs": [],
   "source": [
    "colorbot = PumpController(ser_port = None, drain_time=6, cell_volume=70, config_file=\"./config_files/config.json\")"
   ]
  },
  {
   "cell_type": "code",
   "execution_count": null,
   "id": "4b8d8af4",
   "metadata": {},
   "outputs": [],
   "source": [
    "task = \"hello_colorbot\"\n",
    "msg = colorbot.mqtt_task_manager(task)\n",
    "print(msg)\n",
    "\n"
   ]
  },
  {
   "cell_type": "code",
   "execution_count": null,
   "id": "d14935ae",
   "metadata": {},
   "outputs": [],
   "source": [
    "seconds_run = 3.0 # Do not put this higher than 5, as this will cause overflow in the cell.\n",
    "\n",
    "### Pumping with the RGBY pumps\n",
    "colorbot.purge_pump('R', seconds_run)\n",
    "#colorbot.purge_pump('G', seconds_run)\n",
    "#colorbot.purge_pump('B', seconds_run)\n",
    "#colorbot.purge_pump('Y', seconds_run)\n",
    "\n",
    "### Water\n",
    "#colorbot.purge_pump('W', seconds_run)\n",
    "\n",
    "### Drain\n",
    "colorbot.drain()\n",
    "\n",
    "### Flush: This commands pumps water into the cell to clean the cell. It fills the whole chamber, so make sure you always drain before.\n",
    "#colorbot.flush()\n",
    "#colorbot.drain()\n",
    "#colorbot.reset()\n",
    "\n"
   ]
  },
  {
   "cell_type": "code",
   "execution_count": null,
   "id": "178b6898",
   "metadata": {},
   "outputs": [],
   "source": [
    "rgb = colorbot.measure()"
   ]
  },
  {
   "cell_type": "code",
   "execution_count": null,
   "id": "067bcd5a",
   "metadata": {},
   "outputs": [],
   "source": [
    "colorbot.mix_color([0.5, 0.5, 0.5, 0.5])"
   ]
  },
  {
   "cell_type": "markdown",
   "id": "0c550a3b",
   "metadata": {},
   "source": []
  },
  {
   "cell_type": "code",
   "execution_count": null,
   "id": "cdfaa54a",
   "metadata": {},
   "outputs": [],
   "source": [
    "from pump_controller import SilicoPumpController, visualize_rgb\n",
    "import numpy as np\n",
    "import matplotlib.pyplot as plt"
   ]
  },
  {
   "cell_type": "code",
   "execution_count": null,
   "id": "7e763936",
   "metadata": {},
   "outputs": [],
   "source": [
    "silicobot_no_noise = SilicoPumpController(noise_std=0)"
   ]
  },
  {
   "cell_type": "code",
   "execution_count": null,
   "id": "1fe38dc9",
   "metadata": {},
   "outputs": [],
   "source": [
    "input_volumes = [1.0, 0., 0., 0.]"
   ]
  },
  {
   "cell_type": "code",
   "execution_count": null,
   "id": "3cfbd82a",
   "metadata": {},
   "outputs": [],
   "source": [
    "measured_color = silicobot_no_noise.mix_color(input_volumes)\n",
    "print(f\"The RGB value of the color you mixed is {measured_color}.\")"
   ]
  },
  {
   "cell_type": "code",
   "execution_count": null,
   "id": "859b8b67",
   "metadata": {},
   "outputs": [],
   "source": [
    "silicobot = SilicoPumpController(noise_std = 5)\n",
    "measured_color = silicobot.mix_color(input_volumes)\n",
    "print(f\"The color you mixed is {measured_color}.\")"
   ]
  },
  {
   "cell_type": "code",
   "execution_count": null,
   "id": "2bd275e2",
   "metadata": {},
   "outputs": [],
   "source": [
    "# User your measured RGB values of red, green, blue, and yellow.\n",
    "r = [233, 25, 20]\n",
    "g = [16, 200, 9]\n",
    "b = [40, 10, 180]\n",
    "y = [240, 250, 21]\n",
    "\n",
    "silicobot.set_color_coefficient(r=r,g=g, b=b, y=y)\n",
    "\n",
    "# Let's now measure the red solution.\n",
    "input_volumes = [1.0, 0., 0., 0.]\n",
    "measured_color = silicobot.mix_color(input_volumes)\n",
    "print(f\"The color you mixed is {measured_color}.\")\n"
   ]
  },
  {
   "cell_type": "code",
   "execution_count": null,
   "id": "882ac629",
   "metadata": {},
   "outputs": [],
   "source": [
    "input_volumes = [0.1, 0.2, 0.3, 0.4]\n",
    "silicobot.change_target(input_volumes)"
   ]
  },
  {
   "cell_type": "code",
   "execution_count": null,
   "id": "df70638a",
   "metadata": {},
   "outputs": [],
   "source": [
    "print(f\"Input volumes [R,G,B,Y] of the target color is: {silicobot.target_mixture}\")\n",
    "print(f\"RGB of the target color is: {silicobot.target_color}\")"
   ]
  },
  {
   "cell_type": "code",
   "execution_count": null,
   "id": "5b22375d",
   "metadata": {},
   "outputs": [],
   "source": []
  },
  {
   "cell_type": "code",
   "execution_count": null,
   "id": "80143b32",
   "metadata": {},
   "outputs": [],
   "source": [
    "input_volumes = [0.4, 0.3, 0.2, 0.1]\n",
    "measured_color = silicobot.mix_color(input_volumes)\n",
    "\n",
    "print(f\"Measured Color: {measured_color}\")\n",
    "print(f\"Target Color: {silicobot.target_color}\")"
   ]
  },
  {
   "cell_type": "code",
   "execution_count": null,
   "id": "c79aa897",
   "metadata": {},
   "outputs": [],
   "source": [
    "visualize_rgb(mixture = input_volumes,\n",
    "              rgb = measured_color,\n",
    "              pump_controller = silicobot,\n",
    "              target = silicobot.target_color,\n",
    "              score = None\n",
    "              )"
   ]
  },
  {
   "cell_type": "code",
   "execution_count": null,
   "id": "f32c244e",
   "metadata": {},
   "outputs": [],
   "source": [
    "mixed_colors = []\n",
    "input_volumes=[1.0, 0.0, 0.0, 1.0]\n",
    "for n in range (10):\n",
    "    color = silicobot.mix_color(input_volumes)\n",
    "    print(f'Mix {n} = {color}')\n",
    "    mixed_colors.append(color)\n",
    "\n",
    "plt.axis('off')\n",
    "plt.imshow(np.array([mixed_colors], dtype=np.uint8))"
   ]
  },
  {
   "cell_type": "code",
   "execution_count": null,
   "id": "867e8e10",
   "metadata": {},
   "outputs": [],
   "source": [
    "target_color = [220, 141, 50]\n",
    "\n",
    "silicobot_w_target = SilicoPumpController(noise_std = 3)\n",
    "silicobot_w_target.set_color_coefficient(r=r,g=g, b=b, y=y)\n",
    "silicobot_w_target.target_color = target_color\n",
    "\n",
    "print(f\"Target color is set to {silicobot_w_target.target_color}\")"
   ]
  },
  {
   "cell_type": "code",
   "execution_count": null,
   "id": "de4a9581",
   "metadata": {},
   "outputs": [],
   "source": [
    "input_volumes = [0., 1., 0., 0.]\n",
    "color = silicobot_w_target.mix_color(input_volumes)\n",
    "target = silicobot_w_target.target_color\n",
    "print(f\"Mix = {color}, Target = {target}\")\n",
    "plt.axis('off')\n",
    "plt.imshow(np.array([[color,target]], dtype=np.uint8))"
   ]
  }
 ],
 "metadata": {
  "kernelspec": {
   "display_name": "ai-orchestrated-sdl-Vzjo9xxG-py3.13",
   "language": "python",
   "name": "python3"
  },
  "language_info": {
   "name": "python",
   "version": "3.13.2"
  }
 },
 "nbformat": 4,
 "nbformat_minor": 5
}
