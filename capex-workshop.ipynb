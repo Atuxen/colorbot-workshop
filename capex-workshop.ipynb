{
 "cells": [
  {
   "cell_type": "markdown",
   "id": "3e3bfc6e",
   "metadata": {},
   "source": [
    "# Setting up environment"
   ]
  },
  {
   "cell_type": "code",
   "execution_count": null,
   "id": "5208486e",
   "metadata": {},
   "outputs": [],
   "source": [
    "# Deleting any colorbot-workshop already existing\n",
    "#!rm -rf colorbot-workshop"
   ]
  },
  {
   "cell_type": "code",
   "execution_count": null,
   "id": "820403c9",
   "metadata": {},
   "outputs": [],
   "source": [
    "# Clone the repository\n",
    "!git clone https://github.com/Atuxen/colorbot-workshop.git"
   ]
  },
  {
   "cell_type": "code",
   "execution_count": null,
   "id": "9cffaf0d",
   "metadata": {},
   "outputs": [],
   "source": [
    "%cd colorbot-workshop\n",
    "!pip install ."
   ]
  },
  {
   "cell_type": "markdown",
   "id": "42204fc0",
   "metadata": {},
   "source": [
    "### Now drag and drop the `mqtt_secrets.py`given from the instructors into the content/colorbot-workshop folder, found in the left panel in collab.\n",
    "Once you have put the `mqtt_secrets.py` in the folder, you can go to Exercise 1 if in silicobot group or Excercise 2 if in colorbot group."
   ]
  },
  {
   "cell_type": "markdown",
   "id": "becd951a",
   "metadata": {},
   "source": [
    "\n",
    "# Exercise 1 (SILICOBOT MEMBERS START HERE) \n",
    "## In silico color mixing and optimization\n",
    "We start working with a digital version of the colorbot. Here you can experiment with your code prior to deploying it on the actual pumpbot. \n",
    "\n",
    "- The silicobot instance of `SilicoPumpController`, is initialized with the standard deviation of noise, `noise_std`. \n",
    "- For now, we initiate it without any noise to demonstrate its basic functionalities. \n",
    "- Notice that when you instantiate `silicobot_no_noise`, you will also generate a file with current timestamp under the *silicologs* folder in your current directory. \n"
   ]
  },
  {
   "cell_type": "code",
   "execution_count": null,
   "id": "d0937784",
   "metadata": {},
   "outputs": [],
   "source": [
    "from pump_controller import * \n",
    "\n",
    "silicobot_no_noise = SilicoPumpController(noise_std=0)\n"
   ]
  },
  {
   "cell_type": "markdown",
   "id": "52edca32",
   "metadata": {},
   "source": [
    "### Let's first look at how to mix colors.\n"
   ]
  },
  {
   "cell_type": "markdown",
   "id": "b17ceb56",
   "metadata": {},
   "source": [
    "The `input_volumes` is a list of 4 values that correspond to red, green, blue, and yellow. In this case, we are just putting red color solution. You can \"measure\" its color using the following command. "
   ]
  },
  {
   "cell_type": "code",
   "execution_count": null,
   "id": "34f0d5fa",
   "metadata": {},
   "outputs": [],
   "source": [
    "input_volumes = [1.0, 0., 0., 0.]\n",
    "measured_color = silicobot_no_noise.mix_color(input_volumes)\n",
    "print(f\"The RGB value of the color you mixed is {measured_color}.\")"
   ]
  },
  {
   "cell_type": "markdown",
   "id": "ab7e3d5a",
   "metadata": {},
   "source": [
    "The `measured_color` shows the RGB value of your mixture. In this case, you have pure red since you only put an ideal red color. In reality this will not be the case since:\n",
    " 1. There will be measurement errors from your color sensor\n",
    " 2. Your color solution will not be pure RGB red. \n",
    "\n",
    "Now we'll account for both:\n",
    "\n",
    "First, you can introduce noise in the measurement by setting `noise_std` value. \n",
    "We now initialize `silicobot` with a noise value of 5, and then make a couple of samples. "
   ]
  },
  {
   "cell_type": "code",
   "execution_count": null,
   "id": "b25d523b",
   "metadata": {},
   "outputs": [],
   "source": [
    "silicobot = SilicoPumpController(noise_std = 15)\n",
    "\n",
    "\n",
    "mixed_colors = []\n",
    "input_volumes=[1.0, 0.0, 0.0, 1.0]\n",
    "for n in range (10):\n",
    "    color = silicobot.mix_color(input_volumes)\n",
    "    print(f'Mix {n} = {color}')\n",
    "    mixed_colors.append(color)\n",
    "\n",
    "plt.axis('off')\n",
    "plt.imshow(np.array([mixed_colors], dtype=np.uint8))"
   ]
  },
  {
   "cell_type": "markdown",
   "id": "20744f04",
   "metadata": {},
   "source": [
    "### Second to the measurrement inprecisison, we can micmic an estimate of the true color solutions used \n",
    "By measring the RGB values of the solutions, and replacing the values of `r`, `g`, `b`, and `y` below with your measured values, we can remake the real colors."
   ]
  },
  {
   "cell_type": "code",
   "execution_count": null,
   "id": "1d7d7bc5",
   "metadata": {},
   "outputs": [],
   "source": [
    "# GET THESE VALUES FROM YOUR GROUP MEMBERS, WHEN READY\n",
    "r = [233, 25, 20]\n",
    "g = [16, 200, 9]\n",
    "b = [40, 10, 180]\n",
    "y = [240, 250, 21]\n",
    "\n",
    "silicobot.set_color_coefficient(r=r,g=g, b=b, y=y)\n",
    "\n",
    "# Let's now simulate a meassurement of the red solution.\n",
    "input_volumes = [1.0, 0., 0., 0.]\n",
    "measured_color = silicobot.mix_color(input_volumes)\n",
    "print(f\"The color you mixed is {measured_color}.\")"
   ]
  },
  {
   "cell_type": "markdown",
   "id": "2e8b7f3d",
   "metadata": {},
   "source": [
    "### Setting a target for the optimization\n",
    "You will be given a target color that you are tasked to match by mixing red, green, blue, and yellow. \n",
    "You will not know the components of the target color that you want to match, but can only measure RGB color of the target mixture. "
   ]
  },
  {
   "cell_type": "code",
   "execution_count": null,
   "id": "2152c100",
   "metadata": {},
   "outputs": [],
   "source": [
    "silicobot.target_color = [10,200,20]\n",
    "print(f\"RGB of the target color is: {silicobot.target_color}\")"
   ]
  },
  {
   "cell_type": "markdown",
   "id": "239c2865",
   "metadata": {},
   "source": [
    "### Now we will perform an *in siloco* mixture:"
   ]
  },
  {
   "cell_type": "code",
   "execution_count": null,
   "id": "7c51365a",
   "metadata": {},
   "outputs": [],
   "source": [
    "input_volumes = [0.4, 0.3, 0.2, 0.1]\n",
    "measured_color = silicobot.mix_color(input_volumes)\n",
    "target = silicobot.target_color\n",
    "visualize_rgb(mixture = input_volumes,\n",
    "              rgb = measured_color,\n",
    "              pump_controller = silicobot,\n",
    "              target = target,\n",
    "              score = None\n",
    "              )"
   ]
  },
  {
   "cell_type": "markdown",
   "id": "c8729551",
   "metadata": {},
   "source": [
    "Legend:\n",
    "\n",
    "* The outer-most ring shows the color mixture that you used to mix the color. \n",
    "* The large ring shows that color that you actually mixed\n",
    "* The inner circle shows the target color. \n",
    "* The number in the middle is the objective function score (you don't have that yet). "
   ]
  },
  {
   "cell_type": "markdown",
   "id": "23739ba4",
   "metadata": {},
   "source": [
    "### Objective function score"
   ]
  },
  {
   "cell_type": "markdown",
   "id": "547da979",
   "metadata": {},
   "source": [
    "The mixed color and the target color are very different - but how different are they?\n",
    "\n",
    "To answer this, **you** will have to define a function that takes the color (r, g, b) and target (r, g, b) as inputs and returns some quantitative measure for the difference. There are many ways to define the difference between the two colors. If you need inspiration, you could make a function that returns the root summed squared error for each of the r, g, b channels, $\\sqrt((\\Delta r)^2+(\\Delta g)^2+(\\Delta b)^2)$. This function should take the inputs (r, g, b) tuples (or lists, arrays, etc.) as `input_color1` and `input_color2`, and output a score.\n",
    "\n"
   ]
  },
  {
   "cell_type": "markdown",
   "id": "de8a31c6",
   "metadata": {},
   "source": [
    "Now it's up to you to define a score function, based on the difference between the target and the measured RGB values."
   ]
  },
  {
   "cell_type": "code",
   "execution_count": null,
   "id": "da55ea7d",
   "metadata": {},
   "outputs": [],
   "source": [
    "# function for getting the color difference\n",
    "def color_difference(measured_color, target_color):\n",
    "    # your code goes here\n",
    "\n",
    "    # REMOVE\n",
    "    error = np.array(measured_color) - np.array(target_color)\n",
    "    rmse = np.sqrt(np.mean(error**2))\n",
    "    score = rmse\n",
    "    # REMOVE\n",
    "\n",
    "    return score"
   ]
  },
  {
   "cell_type": "code",
   "execution_count": null,
   "id": "963072be",
   "metadata": {},
   "outputs": [],
   "source": [
    "input_volumes = [0.4, 0.3, 0.2, 0.1]\n",
    "measured_color = silicobot.mix_color(input_volumes)\n",
    "score = color_difference(measured_color, target)\n",
    "visualize_rgb(mixture = input_volumes,\n",
    "              rgb = measured_color,\n",
    "              pump_controller = silicobot,\n",
    "              target = target,\n",
    "              score = score\n",
    "              )"
   ]
  },
  {
   "cell_type": "markdown",
   "id": "898007cf",
   "metadata": {},
   "source": [
    "For the optimization, we would like to have am objective function that relates input parameters (R,G,B,Y), to a score based on the color difference from the target. You'll need to combine what you know about hte silicobot mixing and your new color difference function.\n"
   ]
  },
  {
   "cell_type": "code",
   "execution_count": null,
   "id": "76c2dfc8",
   "metadata": {},
   "outputs": [],
   "source": [
    "def find_score_from_color(input_volumes):\n",
    "    # Your code here\n",
    "\n",
    "    #REMOVE\n",
    "    mixture = silicobot.mix_color(input_volumes)\n",
    "    target = [100, 200, 20]\n",
    "    score = color_difference(mixture, target)\n",
    "    #REMOVE\n",
    "\n",
    "    return score"
   ]
  },
  {
   "cell_type": "markdown",
   "id": "51dc0fb5",
   "metadata": {},
   "source": [
    "Before we move on, you are reminded that you can always find logs under silicologs, and that Help will always be given at Hogwarts to those who ask for it."
   ]
  },
  {
   "cell_type": "code",
   "execution_count": null,
   "id": "31031a5f",
   "metadata": {},
   "outputs": [],
   "source": [
    "from pump_controller import read_logfile, visualize_candidates\n",
    "logs = read_logfile(silicobot.log_file)\n",
    "logs"
   ]
  },
  {
   "cell_type": "markdown",
   "id": "ff1630e7",
   "metadata": {},
   "source": [
    "# Optimization"
   ]
  },
  {
   "cell_type": "markdown",
   "id": "e061566c",
   "metadata": {},
   "source": [
    "Now that you have defined your objective function, we can start defining the optimization problem."
   ]
  },
  {
   "cell_type": "code",
   "execution_count": null,
   "id": "e3ee9cf8",
   "metadata": {},
   "outputs": [],
   "source": [
    "from IPython import display\n",
    "from scipy.optimize import minimize\n",
    "\n",
    "# Odyssey \n",
    "from odyssey.mission import Mission # Mission\n",
    "from odyssey.objective import Objective # Objective\n",
    "from odyssey.navigators import SingleGP_Navigator # Navigator\n",
    "from odyssey.navigators.sampler_navigators import Sobol_Navigator, Grid_Navigator # Sampler\n",
    "from odyssey.navigators import ExpectedImprovement, ProbabilityOfImprovement, UpperConfidenceBound, LogExpectedImprovement, LogProbabilityOfImprovement # Acquisition functions\n",
    "\n",
    "# Other Packages\n",
    "import torch\n",
    "import numpy as np\n",
    "import pandas as pd   \n",
    "import matplotlib.pyplot as plt\n",
    "from IPython import display\n",
    "from warnings import catch_warnings, simplefilter"
   ]
  },
  {
   "cell_type": "markdown",
   "id": "ab51b6cb",
   "metadata": {},
   "source": [
    "The Objective class is a wrapper for enforcing tensor input/output. "
   ]
  },
  {
   "cell_type": "code",
   "execution_count": null,
   "id": "2188a974",
   "metadata": {},
   "outputs": [],
   "source": [
    "objective = Objective(func=find_score_from_color)"
   ]
  },
  {
   "cell_type": "markdown",
   "id": "ce8cd4e2",
   "metadata": {},
   "source": [
    "We define optimization problem using Odyssey's `Mission` class, which takes several attributes.  \n",
    "\n",
    "```python\n",
    "mission = Misson(name='Name of your experiment',\n",
    "                 funcs=[],\n",
    "                 maneuvers=goals,\n",
    "                 envelope=param_space)\n",
    "```\n",
    "\n",
    "- The `funcs` is a list of objective functions\n",
    "-  `manuevers` is a list of goals conrresponding to each objective function, which can be either ascend (i.e., finding global maximum) or descend (i.e., finding global minimum). \n",
    "-   `envelope`is the parameter space bounds. Each tuple is a parameter bound, corresponding to the parameter input"
   ]
  },
  {
   "cell_type": "code",
   "execution_count": null,
   "id": "4fa651e5",
   "metadata": {},
   "outputs": [],
   "source": [
    "\n",
    "mission = Mission(name=\"Minimizing the color difference\",\n",
    "                  funcs=[objective],\n",
    "                  maneuvers=['descend'],\n",
    "                  envelope=[(0.0, 1.0),(0.0, 1.0),(0.0, 1.0),(0.0, 1.0)])\n"
   ]
  },
  {
   "cell_type": "markdown",
   "id": "d6615f80",
   "metadata": {},
   "source": [
    "We have now defined our optimization problem. \n",
    "The next step is to specify how we would like to navigate through our search space, and we achieve this using `Navigator` class. \n",
    "\n",
    "We use `SingleGP_Navigator` for single-objective Bayesian optimization, which employs a single Gaussian Process (GP) model to approximate the objective function and guide the search for the optimal solution using an acquisition function. The first step of the optimization sequence to explore a fixed set of initial data points before using the acquisition function. Let's explore 3 initial points, which is selected in a uniform fashion by dividing our search space into grids. Once the initial points are explored, we will continue the optimization by using `ExpectedImprovement` as an acquisition function. "
   ]
  },
  {
   "cell_type": "code",
   "execution_count": null,
   "id": "c756b168",
   "metadata": {},
   "outputs": [],
   "source": [
    "\n",
    "num_init_points = 3\n",
    "navigator = SingleGP_Navigator(mission=mission,\n",
    "                               num_init_design=num_init_points,\n",
    "                               input_scaling=False,\n",
    "                               data_standardization=False,\n",
    "                               init_method=Grid_Navigator(mission=mission, subdivisions=num_init_points),\n",
    "                               acq_function_type=ExpectedImprovement,\n",
    "                               acq_function_params={'best_f': 0.0}\n",
    ")\n"
   ]
  },
  {
   "cell_type": "markdown",
   "id": "050ee954",
   "metadata": {},
   "source": [
    "Initiating the navigator above has selected 3 points and evaluated the objective function. You can now run the optimizer. "
   ]
  },
  {
   "cell_type": "code",
   "execution_count": null,
   "id": "9f519053",
   "metadata": {},
   "outputs": [],
   "source": [
    "num_iter = 10\n",
    "\n",
    "from warnings import catch_warnings\n",
    "from warnings import simplefilter\n",
    "\n",
    "\n",
    "for i in range(num_iter):\n",
    "    with catch_warnings() as w:\n",
    "        simplefilter('ignore')\n",
    "        trajectory = navigator.trajectory()\n",
    "        observation = navigator.probe(trajectory, init = False)\n",
    "        navigator.relay(trajectory, observation)\n",
    "        navigator.upgrade()\n",
    "\n",
    "\n",
    "     \n",
    "     "
   ]
  },
  {
   "cell_type": "code",
   "execution_count": null,
   "id": "04f1c41c",
   "metadata": {},
   "outputs": [],
   "source": [
    "best_idx = mission.display_Y.argmin().item()\n",
    "best_input = mission.display_X[best_idx,]\n",
    "best_output = mission.display_Y[best_idx].item()\n",
    "\n",
    "print(f'Best Input: {best_input}')\n",
    "print(f'Best Output: {best_output}')\n",
    "\n",
    "visualize_rgb(mixture = input_volumes,\n",
    "              rgb = silicobot_no_noise.mix_color(best_input),\n",
    "              pump_controller = silicobot,\n",
    "              target = target,\n",
    "              score = best_output\n",
    "              )\n",
    "\n"
   ]
  },
  {
   "cell_type": "markdown",
   "id": "55f620c5",
   "metadata": {},
   "source": [
    "You are now ready to go to exercise 3 when you're group members are ready. If theyre not ready, have a peak at the exercise 2."
   ]
  },
  {
   "cell_type": "markdown",
   "id": "bdab9f85",
   "metadata": {},
   "source": [
    "# Exercise 2 (COLORBOT MEMBERS START HERE) \n",
    "## Connecting to the Colorbot pump controller"
   ]
  },
  {
   "cell_type": "code",
   "execution_count": null,
   "id": "52effd6b",
   "metadata": {},
   "outputs": [],
   "source": [
    "from pump_controller import PumpController, get_serial_port, list_serial_ports, visualize_rgb, visualize_candidates\n",
    "print(\"Initialization finished!\")"
   ]
  },
  {
   "cell_type": "markdown",
   "id": "d45547cd",
   "metadata": {},
   "source": [
    "### Connect to your colorbot, by assigning your group number to the id\n",
    "If the colorbot returns \"Colorbot is ready\", the machine is connected."
   ]
  },
  {
   "cell_type": "code",
   "execution_count": null,
   "id": "6fa76023",
   "metadata": {},
   "outputs": [],
   "source": [
    "# Put here the number of the colorbot you are using, to connect to right machine\n",
    "group_no = 5 #1, 2, 3, 4, 5\n",
    "colorbot = PumpController(id = group_no, \n",
    "                          ser_port = None, \n",
    "                          drain_time=6, \n",
    "                          cell_volume=45, \n",
    "                          config_file=\"./config_files/config.json\")\n"
   ]
  },
  {
   "cell_type": "markdown",
   "id": "ffab7d25",
   "metadata": {},
   "source": [
    "### Communication with the machine is done via the MQTT broker HiveMQ\n",
    "Each machine is listening to a topic, and each client is publishing tasks on that topic. Task requests are synchronised with a request id. You can request `hello_colorbot` below, and see that the microcontrolers onboard LED light up, and a response is displayed below."
   ]
  },
  {
   "cell_type": "code",
   "execution_count": null,
   "id": "4b8d8af4",
   "metadata": {},
   "outputs": [],
   "source": [
    "task = \"hello_colorbot\"\n",
    "msg = colorbot.mqtt_task_manager(task)\n",
    "print(msg)"
   ]
  },
  {
   "cell_type": "markdown",
   "id": "0c86bf33",
   "metadata": {},
   "source": [
    "### Fill colors solutions and water on the robot\n",
    "Get colors from the teacher, and fill the bottles according to the labels"
   ]
  },
  {
   "cell_type": "markdown",
   "id": "15a3acf5",
   "metadata": {},
   "source": [
    "### Priming pumps\n",
    "Before diving in running protocols on the machine, we start with the basic functionaility. Below you can run the pumps for a set amount of seconds. Later we will be able to dispense volume. REMEMBER TO DRAIN THE CELL FREQUENTLY!"
   ]
  },
  {
   "cell_type": "code",
   "execution_count": null,
   "id": "d14935ae",
   "metadata": {},
   "outputs": [],
   "source": [
    "seconds_run = 2.0 # Do not put this higher than 5, as this will cause overflow in the cell.\n",
    "\n",
    "### Pumping with the RGBY pumps\n",
    "colorbot.purge_pump('R', seconds_run)\n",
    "#colorbot.purge_pump('G', seconds_run)\n",
    "#colorbot.purge_pump('B', seconds_run)\n",
    "#colorbot.purge_pump('Y', seconds_run)\n",
    "colorbot.drain() # REMEMBER TO DRAIN TO CELL!!"
   ]
  },
  {
   "cell_type": "markdown",
   "id": "64db4071",
   "metadata": {},
   "source": [
    "### Draining and cleaning the cell\n",
    "In the colorbot universe, we use water to flush the test cell between measurements. You can run reset() to prepare the cell for a new measurement "
   ]
  },
  {
   "cell_type": "code",
   "execution_count": null,
   "id": "059dcc97",
   "metadata": {},
   "outputs": [],
   "source": [
    "### Water flush\n",
    "colorbot.flush()\n",
    "\n",
    "### Drain\n",
    "colorbot.drain()\n",
    "\n",
    "### RESET CELL: This commands first drain(), then flush() and then drain() again. This resets the cell for new measurement\n",
    "#colorbot.reset()"
   ]
  },
  {
   "cell_type": "markdown",
   "id": "73607a2b",
   "metadata": {},
   "source": [
    "### Measure color value of cell content (CELL NEEDS TO BE FILLED)\n",
    "When you run this command, you the LEDs will light up the cell, and the color sensor will capture and average RGB value and return it over the broker. The color sensor needs a filled cell, and you can expect a grey color with values around(90,85,60) for an empty cell. "
   ]
  },
  {
   "cell_type": "code",
   "execution_count": null,
   "id": "178b6898",
   "metadata": {},
   "outputs": [],
   "source": [
    "# Capture and display average RGB value\n",
    "rgb = colorbot.measure()\n"
   ]
  },
  {
   "cell_type": "markdown",
   "id": "51e2efb0",
   "metadata": {},
   "source": [
    "### Measure color solutions\n",
    "- For each color solution, fill the test cell and capture the RGB values.\n",
    "- Write down the values, and pass them to you silicobot group members\n",
    "- Get a target color solution from the teachers, and likewise measure the RGB values. "
   ]
  },
  {
   "cell_type": "code",
   "execution_count": 18,
   "id": "8d8ddef0",
   "metadata": {},
   "outputs": [],
   "source": [
    "# GIVE THESE VALUES TO YOUR GROUP MEMBERS, WHEN READY\n",
    "r = [233, 25, 20]\n",
    "g = [16, 200, 9]\n",
    "b = [40, 10, 180]\n",
    "y = [240, 250, 21]\n",
    "\n",
    "target = [0,0,0]"
   ]
  },
  {
   "cell_type": "markdown",
   "id": "404931b1",
   "metadata": {},
   "source": [
    "### Dispensing volume\n",
    "The pumps used on the colorbot have been calibrated by fitting a regression line on values measured. The configuration can be found under config if you have interest. Since we have calibrated it prior to this exercise, we can dispense volumes.\n",
    "\n",
    "The colorbot.mix_color method is a protocol which do:\n",
    "- Mix the ratio of each color channel normalised to the cell volume. (e.g. if you want euqal amounts of each, run colorbot.mix_color([1,1,1,1]))\n",
    "- Then measures the RGB \n",
    "- Finally resets the cell, by draining, flushing and draining"
   ]
  },
  {
   "cell_type": "code",
   "execution_count": null,
   "id": "067bcd5a",
   "metadata": {},
   "outputs": [],
   "source": [
    "# Try to perform a mix, and check the log files\n",
    "colorbot.mix_color([1,1,1,1])\n",
    "\n",
    "logs = read_logfile(colorbot.log_file)\n",
    "logs"
   ]
  },
  {
   "cell_type": "markdown",
   "id": "0c550a3b",
   "metadata": {},
   "source": [
    "# Exercise 3: Bayesian optimization on colorbot"
   ]
  },
  {
   "cell_type": "code",
   "execution_count": null,
   "id": "87207a44",
   "metadata": {},
   "outputs": [],
   "source": [
    "from pump_controller import PumpController, get_serial_port, list_serial_ports, visualize_rgb, visualize_candidates\n",
    "print(\"Initialization finished!\")"
   ]
  },
  {
   "cell_type": "code",
   "execution_count": null,
   "id": "36e4863b",
   "metadata": {},
   "outputs": [],
   "source": [
    "# Put here the number of the colorbot you are using, to connect to right machine\n",
    "group_no = 5 #1, 2, 3, 4, 5\n",
    "colorbot = PumpController(id = group_no, \n",
    "                          ser_port = None, \n",
    "                          drain_time=6, \n",
    "                          cell_volume=45, \n",
    "                          config_file=\"./config_files/config.json\")\n"
   ]
  },
  {
   "cell_type": "markdown",
   "id": "336d7e31",
   "metadata": {},
   "source": [
    "### Now we will run the Bayesian optimization of the colorbot. First we will need to define our optimization problem. \n",
    "Wrap the objective function defined in exercise 1."
   ]
  },
  {
   "cell_type": "code",
   "execution_count": null,
   "id": "5add8911",
   "metadata": {},
   "outputs": [],
   "source": [
    "history = []\n",
    "\n",
    "def find_score_from_color(input_volumes):\n",
    "\n",
    "    # Your code here\n",
    "\n",
    "    #REMOVE\n",
    "    mixture = colorbot.mix_color(input_volumes)\n",
    "    target = [100, 200, 20]\n",
    "    score = color_difference(mixture, target)\n",
    "    #REMOVE\n",
    "\n",
    "    # This is for visulaization\n",
    "    history.append({\n",
    "        'mixture': np.array(input_volumes),\n",
    "        'measurement': np.array(mixture),\n",
    "        'target_measurement': np.array(target),\n",
    "        'score': score\n",
    "    })\n",
    "\n",
    "    # Update visualization every N iterations (to avoid too frequent updates)\n",
    "    if len(history) % 2 == 0 or len(history) == 1:  # Update every 2nd iteration\n",
    "        display.clear_output(wait=True)\n",
    "        df = pd.DataFrame(history)\n",
    "        visualize_candidates(df)\n",
    "        print(f\"\\nExperiments completed: {len(history)}\")\n",
    "        print(f\"Current best score: {df['score'].min():.2f}\")\n",
    "        plt.show()\n",
    "\n",
    "    \n",
    "    return score\n",
    "\n",
    "objective = Objective(func=find_score_from_color)"
   ]
  },
  {
   "cell_type": "markdown",
   "id": "cf625aa3",
   "metadata": {},
   "source": [
    "You can run try to mix a color, and check the score:"
   ]
  },
  {
   "cell_type": "code",
   "execution_count": null,
   "id": "cffbe857",
   "metadata": {},
   "outputs": [],
   "source": [
    "input_volumes = [0.4, 0.3, 0.2, 0.1]\n",
    "measured_color = colorbot.mix_color(input_volumes)\n",
    "score = color_difference(measured_color, target)\n",
    "visualize_rgb(mixture = input_volumes,\n",
    "              rgb = measured_color,\n",
    "              pump_controller = colorbot,\n",
    "              target = target,\n",
    "              score = score\n",
    "              )"
   ]
  },
  {
   "cell_type": "markdown",
   "id": "6f246a1c",
   "metadata": {},
   "source": [
    "Now define you optimization problem, using the `Mission`class"
   ]
  },
  {
   "cell_type": "code",
   "execution_count": null,
   "id": "5862768e",
   "metadata": {},
   "outputs": [],
   "source": [
    "#mission = Mission ...\n",
    "\n",
    "\n",
    "# REMOVE\n",
    "mission = Mission(name=\"Minimizing the color difference\",\n",
    "                  funcs=[objective],\n",
    "                  maneuvers=['descend'],\n",
    "                  envelope=[(0.0, 1.0),(0.0, 1.0),(0.0, 1.0),(0.0, 1.0)])"
   ]
  },
  {
   "cell_type": "markdown",
   "id": "1781d3bf",
   "metadata": {},
   "source": [
    "Now define the surrogate and the optimization algorithm using the `Navigator`class:"
   ]
  },
  {
   "cell_type": "code",
   "execution_count": null,
   "id": "42d68b71",
   "metadata": {},
   "outputs": [],
   "source": [
    "#num_init_points = 3\n",
    "#navigator = SingleGP_Navigator(mission=mission, ...\n",
    "#                               \n",
    "\n",
    "num_init_points = 3\n",
    "navigator = SingleGP_Navigator(mission=mission,\n",
    "                               num_init_design=num_init_points,\n",
    "                               input_scaling=False,\n",
    "                               data_standardization=False,\n",
    "                               init_method=Grid_Navigator(mission=mission, subdivisions=num_init_points),\n",
    "                               acq_function_type=ExpectedImprovement,\n",
    "                               acq_function_params={'best_f': 0.0}\n",
    ")\n"
   ]
  },
  {
   "cell_type": "markdown",
   "id": "27006624",
   "metadata": {},
   "source": [
    "Run the optimizer"
   ]
  },
  {
   "cell_type": "code",
   "execution_count": null,
   "id": "00db588a",
   "metadata": {},
   "outputs": [],
   "source": [
    "num_iter = 10\n",
    "\n",
    "for i in range(num_iter):\n",
    "    with catch_warnings() as w:\n",
    "        simplefilter('ignore')\n",
    "        trajectory = navigator.trajectory()\n",
    "        observation = navigator.probe(trajectory, init = False)\n",
    "        navigator.relay(trajectory, observation)\n",
    "        navigator.upgrade()      \n",
    "     \n",
    "     \n",
    "best_idx = mission.display_Y.argmin().item()\n",
    "best_input = mission.display_X[best_idx,]\n",
    "best_output = mission.display_Y[best_idx].item()\n",
    "\n",
    "print(f'Best Input: {best_input}')\n",
    "print(f'Best Output: {best_output}')\n",
    "\n",
    "visualize_rgb(mixture = input_volumes,\n",
    "              rgb = silicobot_no_noise.mix_color(best_input),\n",
    "              pump_controller = silicobot,\n",
    "              target = target,\n",
    "              score = best_output\n",
    "              )\n",
    "\n"
   ]
  },
  {
   "cell_type": "code",
   "execution_count": null,
   "id": "04022821",
   "metadata": {},
   "outputs": [],
   "source": [
    "\n",
    "\n",
    "#visualize_candidates(df)"
   ]
  },
  {
   "cell_type": "markdown",
   "id": "c0dbdd64",
   "metadata": {},
   "source": []
  },
  {
   "cell_type": "code",
   "execution_count": null,
   "id": "8c103fff",
   "metadata": {},
   "outputs": [],
   "source": [
    "df = read_logfile(silicobot.log_file)\n",
    "df[\"score\"] = np.ones(len(df))\n",
    "\n",
    "print(silicobot.log_file)\n",
    "visualize_candidates(df)"
   ]
  }
 ],
 "metadata": {
  "kernelspec": {
   "display_name": "ai-orchestrated-sdl-Vzjo9xxG-py3.13",
   "language": "python",
   "name": "python3"
  },
  "language_info": {
   "codemirror_mode": {
    "name": "ipython",
    "version": 3
   },
   "file_extension": ".py",
   "mimetype": "text/x-python",
   "name": "python",
   "nbconvert_exporter": "python",
   "pygments_lexer": "ipython3",
   "version": "3.13.2"
  }
 },
 "nbformat": 4,
 "nbformat_minor": 5
}
