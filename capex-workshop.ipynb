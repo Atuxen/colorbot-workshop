{
 "cells": [
  {
   "cell_type": "code",
   "execution_count": null,
   "id": "820403c9",
   "metadata": {},
   "outputs": [],
   "source": [
    "!git clone "
   ]
  },
  {
   "cell_type": "code",
   "execution_count": null,
   "id": "9cffaf0d",
   "metadata": {},
   "outputs": [],
   "source": [
    "!pip instal /content/"
   ]
  },
  {
   "cell_type": "code",
   "execution_count": null,
   "id": "de7dbb1c",
   "metadata": {},
   "outputs": [
    {
     "ename": "",
     "evalue": "",
     "output_type": "error",
     "traceback": [
      "\u001b[1;31mRunning cells with 'ai-orchestrated-sdl-Vzjo9xxG-py3.13 (Python 3.13.2)' requires the ipykernel package.\n",
      "\u001b[1;31m<a href='command:jupyter.createPythonEnvAndSelectController'>Create a Python Environment</a> with the required packages."
     ]
    }
   ],
   "source": [
    "from pump_controller import PumpController, get_serial_port, list_serial_ports\n",
    "from pump_controller import visualize_rgb, visualize_candidates\n",
    "import time\n",
    "import numpy as np\n",
    "print(\"Initialization finished!\")"
   ]
  },
  {
   "cell_type": "code",
   "execution_count": null,
   "id": "6fa76023",
   "metadata": {},
   "outputs": [],
   "source": [
    "# WiFi \n",
    "calibratebot = PumpController(ser_port = None, drain_time=6, cell_volume=70, config_file=\"./config_files/config.json\")\n",
    "\n",
    "## USB connection (Not recommended)\n",
    "#calibratebot = PumpController(ser_port = get_serial_port(), config_file = \"./config_files/config.json\")"
   ]
  },
  {
   "cell_type": "code",
   "execution_count": null,
   "id": "4b8d8af4",
   "metadata": {},
   "outputs": [],
   "source": [
    "#Only for WiFi MODE:\n",
    "task = \"hello_colorbot\"\n",
    "msg = calibratebot.mqtt_task_manager(task)\n",
    "print(msg)\n",
    "\n"
   ]
  },
  {
   "cell_type": "code",
   "execution_count": null,
   "id": "d14935ae",
   "metadata": {},
   "outputs": [],
   "source": [
    "#seconds_run = 3.0 # Do not put this higher than 5, as this will cause overflow in the cell.\n",
    "\n",
    "### Pumping with the RGBY pumps\n",
    "#calibratebot.purge_pump('R', seconds_run)\n",
    "#calibratebot.purge_pump('G', seconds_run)\n",
    "#calibratebot.purge_pump('B', seconds_run)\n",
    "#calibratebot.purge_pump('Y', seconds_run)\n",
    "\n",
    "### Water\n",
    "#calibratebot.purge_pump('W', seconds_run)\n",
    "\n",
    "### Drain\n",
    "#calibratebot.reset()\n",
    "#calibratebot.drain()\n",
    "\n",
    "### Flush: This commands pumps water into the cell to clean the cell. It fills the whole chamber, so make sure you always drain before.\n",
    "#calibratebot.flush()\n",
    "#calibratebot.drain()\n",
    "\n",
    "calibratebot.mix_color([0.5, 0.5, 0.5, 0.5])"
   ]
  }
 ],
 "metadata": {
  "kernelspec": {
   "display_name": "ai-orchestrated-sdl-Vzjo9xxG-py3.13",
   "language": "python",
   "name": "python3"
  },
  "language_info": {
   "name": "python",
   "version": "3.13.2"
  }
 },
 "nbformat": 4,
 "nbformat_minor": 5
}
