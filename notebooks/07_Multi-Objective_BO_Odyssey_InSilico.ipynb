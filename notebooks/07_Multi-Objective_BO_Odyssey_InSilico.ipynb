{
 "cells": [
  {
   "cell_type": "markdown",
   "metadata": {},
   "source": [
    "# *In silico* Multi-Objective BO with Odyssey\n",
    "\n",
    "We are now moving onto the Multi-Objective Bayesian Optimization (MOBO)! Just like our previous exercise in `05_Bayesian_Optimization_Odyssey_InSilico.ipynb`, we will continue to use [**Odyssey**](https://odyssey-51edb0.gitlab.io/). The only difference is that we will now expand on the single-objective opmitization to muti-objective optimization. As usual, you will move on to the PumpBot in the next exercise, so make sure you do proper coding and experiment with parameters in this exercise to make the next one easier. \n",
    "\n",
    "Let's start by importing `Odyssey` and some additional packages."
   ]
  },
  {
   "cell_type": "code",
   "execution_count": null,
   "metadata": {},
   "outputs": [],
   "source": [
    "# Odyssey \n",
    "from odyssey.mission import Mission # Mission\n",
    "from odyssey.objective import Objective # Objective\n",
    "from odyssey.navigators import qNParEGO_Navigator, qEHVI_Navigator # Multi-Objective Navigators\n",
    "from odyssey.navigators.sampler_navigators import Sobol_Navigator, Grid_Navigator # Sampler\n",
    "\n",
    "# Other Packages\n",
    "import torch\n",
    "import numpy as np\n",
    "import pandas as pd   \n",
    "import matplotlib.pyplot as plt\n",
    "from IPython import display\n",
    "from warnings import catch_warnings, simplefilter\n",
    "\n",
    "from botorch.utils.multi_objective.pareto import is_non_dominated\n",
    "from botorch.utils.multi_objective.box_decompositions.non_dominated import NondominatedPartitioning\n"
   ]
  },
  {
   "cell_type": "markdown",
   "metadata": {},
   "source": [
    "The key difference in the imported classes are the multi-objective naviators (acquisition functions): `qNParEGO_Navigator` and `qEHVI_Navigator`. These respectively refers **Par**eto **E**fficient **G**lobal **O**ptimization (ParEGO) and **E**xpected **H**ypervolume **I**mprovement (EHVI). \n",
    "\n",
    "Note that the prefix `q` in the navigator name represents the batch size, indicating the number of points to be evaluated simultaneously in a parallel fashion. The prefix `N` stands for \"noisy\", referring to the handling of noise in the objective function of constraints. Therefore, `qNParEGO` is a parallel, noisy version of the `ParEGO` algorithm, for example. We will not be dealing with the batch size, so you do not need to worry about it.\n",
    "\n",
    "## Exercise 7.1: Multi-Objective Optimization using single input function\n",
    "\n",
    "As usual, we start with a simple example. This case, we provide you with the objective functions, and you will be trying to find the global minimum of two functions below for $x \\in [-5, 5]$."
   ]
  },
  {
   "cell_type": "code",
   "execution_count": null,
   "metadata": {},
   "outputs": [],
   "source": [
    "def first_objective_function(x):\n",
    "    val = -(torch.sin(x) + torch.sin((10.0 / 3.0) * x))\n",
    "    return val"
   ]
  },
  {
   "cell_type": "code",
   "execution_count": null,
   "metadata": {},
   "outputs": [],
   "source": [
    "def second_objective_function(x):\n",
    "    val = -(torch.cos((2.0 / 1.0) * x) + torch.cos((10.0 / 3.0) * x))\n",
    "    return val"
   ]
  },
  {
   "cell_type": "markdown",
   "metadata": {},
   "source": [
    "Let's visualize the two objective functions to see where the minimum values of the two functions are."
   ]
  },
  {
   "cell_type": "code",
   "execution_count": null,
   "metadata": {},
   "outputs": [],
   "source": [
    "test_X = torch.linspace(-5, 5, 1000)\n",
    "test_Y1 = first_objective_function(test_X)\n",
    "test_Y2 = second_objective_function(test_X)\n",
    "\n",
    "\n",
    "plt.figure(figsize=(7, 5))\n",
    "plt.plot(test_X, test_Y1, color='black', label=r\"$f_1(x)$\")\n",
    "plt.plot(test_X, test_Y2, color='red', label=r\"$f_2(x)$\")\n",
    "plt.xlabel('x')\n",
    "plt.ylabel('f(x)')\n",
    "plt.legend()\n",
    "plt.show()"
   ]
  },
  {
   "cell_type": "markdown",
   "metadata": {},
   "source": [
    "Not surprisingly, you can see that the global minima of the two objective functions do not coincide, meaning that you cannot simultaneously minimize both $f_1(x)$ and $f_2(x)$. It is time to apply what you learned about the multi-objective optimization. \n",
    "\n",
    "Let's use MOBO to find the optimal trade-offs between the two conflicting objectives! We start by defining the two objectives below. "
   ]
  },
  {
   "cell_type": "code",
   "execution_count": null,
   "metadata": {},
   "outputs": [],
   "source": [
    "objectives = [Objective(func=first_objective_function),\n",
    "              Objective(func=second_objective_function)]"
   ]
  },
  {
   "cell_type": "markdown",
   "metadata": {},
   "source": [
    "We now initialize our \"mission\" where we perform the minimization of $f_1(x)$ and $f_2(x)$ for $x \\in [-5, 5]$. Note that `func` and `maneuvers` are list of length two since we optimize two objectives. "
   ]
  },
  {
   "cell_type": "code",
   "execution_count": null,
   "metadata": {},
   "outputs": [],
   "source": [
    "param_space = [(-5.0, 5.0)]\n",
    "\n",
    "mission = Mission(name=\"MOO minimizing two functions\",\n",
    "                  funcs=objectives,\n",
    "                  maneuvers=['descend', 'descend'],\n",
    "                  envelope=param_space)"
   ]
  },
  {
   "cell_type": "markdown",
   "metadata": {},
   "source": [
    "The next step is to specify how we would like to navigate through our search space by selecting the `Navigator`. We demonstrate how to use `qNParEGO_Navigator` that scalarizaes the multi-objective into a single-objective problem. \n",
    "\n",
    "<div class=\"alert alert-block alert-info\">\n",
    "<b>Note:</b> Aftr you run this simple tutorial, change to 'qEHVI_Navigator' and re-run the example and compare its performance/behavior.\n",
    "</div>"
   ]
  },
  {
   "cell_type": "code",
   "execution_count": null,
   "metadata": {},
   "outputs": [],
   "source": [
    "num_init = 5\n",
    "navigator = qNParEGO_Navigator(mission=mission,\n",
    "                               num_init_design=num_init,\n",
    "                               input_scaling=False,\n",
    "                               data_standardization=False,\n",
    "                               init_method=Sobol_Navigator(mission=mission),\n",
    "                               acq_function_params={}\n",
    ")"
   ]
  },
  {
   "cell_type": "markdown",
   "metadata": {},
   "source": [
    "The function below is used to plot Pareto Front."
   ]
  },
  {
   "cell_type": "code",
   "execution_count": null,
   "metadata": {},
   "outputs": [],
   "source": [
    "def plot_progress():    \n",
    "    plt.figure(figsize=(10, 6))\n",
    "    pareto = mission.display_Y[is_non_dominated(Y=mission.display_Y, maximize=False)]\n",
    "    pareto_sorted = pareto.cpu().numpy()\n",
    "    pareto_front = pareto_sorted[pareto_sorted[:, 0].argsort()]\n",
    "\n",
    "    plt.plot(pareto_front[:, 0], pareto_front[:, 1], label='qNParEGO Pareto Front', marker='+', markersize=10, color='royalblue', linestyle='-')\n",
    "    plt.scatter(mission.display_Y[:, 0].cpu(), mission.display_Y[:, 1].cpu(), label='qNParEGO Samples', alpha=0.5)\n",
    "\n",
    "    plt.xlabel(r'$f_1(x)$')\n",
    "    plt.ylabel(r'$f_2(x)$')\n",
    "    plt.title('Pareto Front using qNParEGO')\n",
    "    plt.legend()\n",
    "    plt.show()"
   ]
  },
  {
   "cell_type": "markdown",
   "metadata": {},
   "source": [
    "Now, let's start the MOBO loop!\n",
    "\n",
    "You are **strongly** encouraged to experiment with the parameters."
   ]
  },
  {
   "cell_type": "code",
   "execution_count": null,
   "metadata": {},
   "outputs": [],
   "source": [
    "num_iter = 15\n",
    "opt_samples = len(mission.display_X) - num_init\n",
    "ref_point = torch.tensor([5.0, 5.0])\n",
    "\n",
    "\n",
    "while opt_samples < num_iter:\n",
    "    with catch_warnings() as w:\n",
    "        simplefilter('ignore')\n",
    "        trajectory = navigator.trajectory()\n",
    "        observation = navigator.probe(input_data=trajectory, init=False)\n",
    "        navigator.relay(trajectory, observation)\n",
    "        navigator.upgrade()\n",
    "\n",
    "    # Compute Pareto front and hypervolume\n",
    "    pareto_mask = is_non_dominated(Y=mission.display_Y, maximize=False)\n",
    "    pareto_Y = mission.display_Y[pareto_mask]\n",
    "\n",
    "    # Update training data\n",
    "    partitioning = NondominatedPartitioning(ref_point=ref_point, Y=pareto_Y)\n",
    "    hypervolume = partitioning.compute_hypervolume().item()\n",
    "\n",
    "    opt_samples = len(mission.display_X) - num_init\n",
    "    \n",
    "    display.clear_output(wait=True) # This will help you remove figures as you go\n",
    "    plot_progress()\n",
    "    print(f\"Iteration {opt_samples}: Hypervolume = {hypervolume:.4f}\")\n",
    "    input('Press Enter to proceed.')\n",
    "    \n",
    "print(f\"Finished optimization.\")\n"
   ]
  },
  {
   "cell_type": "markdown",
   "metadata": {},
   "source": [
    "## Exercise 7.2: Let's combine color mixing with different pH values\n",
    "\n",
    "Now you got a good taste of how to perform MOBO using Odyssey. It is time to get back to the color mixing. \n",
    "\n",
    "We will build upon the previous notebooks to perform inSilico color mixing, so we only introduce you to the \"new\" features that are relevant for MOBO. In this case, we will utilize the functionality of the `SilicoPumpController` to assign a pH value for each of the red, green, blue, and yellow solution. It can calculate the pH of the solution mixtures, in addition to the resulting color. \n",
    "\n",
    "Reusing your code from the previous *in silico* exercises as much as you can to figure out how to perform MOBO. \n",
    " "
   ]
  },
  {
   "cell_type": "code",
   "execution_count": null,
   "metadata": {},
   "outputs": [],
   "source": [
    "# Pump Controller\n",
    "from pump_controller import SilicoPumpController"
   ]
  },
  {
   "cell_type": "code",
   "execution_count": null,
   "metadata": {},
   "outputs": [],
   "source": [
    "# Let's have some noise to keep it real.\n",
    "silicobot = SilicoPumpController(noise_std = 3)"
   ]
  },
  {
   "cell_type": "markdown",
   "metadata": {},
   "source": [
    "We can introduce the pH value of each of the stock solution using `set_ph_coefficient` method. Let's assume the following pH values:\n",
    "* red: 7.0\n",
    "* green: 10.0\n",
    "* blue: 4.0\n",
    "* yellow: 3.0"
   ]
  },
  {
   "cell_type": "code",
   "execution_count": null,
   "metadata": {},
   "outputs": [],
   "source": [
    "silicobot.set_ph_coefficient(r=7.0, g=10.0, b=4.0, y=3.0)"
   ]
  },
  {
   "cell_type": "markdown",
   "metadata": {},
   "source": [
    "Now, let's test how it behaves. Let's mix half red and half green to make yellow. Since the pH value of red and green are 7.0 and 10.0, respectively, the resulting solution should have the pH level of 8.5."
   ]
  },
  {
   "cell_type": "code",
   "execution_count": null,
   "metadata": {},
   "outputs": [],
   "source": [
    "silicobot.mix_color(col_list=[0.5, 0.5, 0.0, 0.0], ph=True)"
   ]
  },
  {
   "cell_type": "markdown",
   "metadata": {},
   "source": [
    "You can see that the resulting RGB corresponds to the yellow color (equal parts of red and green), and you get the pH value of 8.5. Of course, with some errors due to the `noise_std` value. \n",
    "\n",
    "Here are 3 different sets of colors and pH values. Try to obtain them using MOBO feature of Odyssey. Be sure to tinker with the notebook to see how you can extract the key information such as the ratios of `r`, `g`, `b`, and `y` to obtain the \"best\" mixtures.\n",
    "\n",
    "Have fun!"
   ]
  },
  {
   "cell_type": "code",
   "execution_count": null,
   "metadata": {},
   "outputs": [],
   "source": [
    "target_color_1 = [125., 125., 0.]\n",
    "target_pH_1 = 3."
   ]
  },
  {
   "cell_type": "code",
   "execution_count": null,
   "metadata": {},
   "outputs": [],
   "source": [
    "target_color_2 = [83., 156., 72.]\n",
    "target_pH_2 = 9."
   ]
  },
  {
   "cell_type": "code",
   "execution_count": null,
   "metadata": {},
   "outputs": [],
   "source": [
    "target_color_3 = [145., 120., 100.]\n",
    "target_pH_3 = 7."
   ]
  },
  {
   "cell_type": "code",
   "execution_count": null,
   "metadata": {},
   "outputs": [],
   "source": [
    "# place for your code"
   ]
  },
  {
   "cell_type": "code",
   "execution_count": null,
   "metadata": {},
   "outputs": [],
   "source": [
    "# place for your code"
   ]
  },
  {
   "cell_type": "code",
   "execution_count": null,
   "metadata": {},
   "outputs": [],
   "source": [
    "# place for your code.  Add more as needed."
   ]
  }
 ],
 "metadata": {
  "kernelspec": {
   "display_name": ".venv",
   "language": "python",
   "name": "python3"
  },
  "language_info": {
   "codemirror_mode": {
    "name": "ipython",
    "version": 3
   },
   "file_extension": ".py",
   "mimetype": "text/x-python",
   "name": "python",
   "nbconvert_exporter": "python",
   "pygments_lexer": "ipython3",
   "version": "3.12.11"
  }
 },
 "nbformat": 4,
 "nbformat_minor": 4
}
