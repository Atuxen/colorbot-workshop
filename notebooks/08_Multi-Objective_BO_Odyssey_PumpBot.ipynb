{
 "cells": [
  {
   "cell_type": "markdown",
   "metadata": {},
   "source": [
    "# Bayesian optimization with Odyssey using PumpBot"
   ]
  },
  {
   "cell_type": "markdown",
   "metadata": {},
   "source": [
    "Welcome back! \n",
    "\n",
    "As you are getting better at Python and are building toolbox using *in silico* exercises, these notebooks will become thinner, provide less code, and require more of you. You will get far by using your old notebooks and copy/paste cells from those into this.\n",
    "\n",
    "Rather than holding your hands for each step, this notebook will only provide a (brief) guideline on what you should do. You will need to combine what you have learned in the previous PumpBot exercise and *in silico* Bayesian optimization exercise.\n",
    "\n",
    "## Exercise 6.1: Load your previous PumpBot data\n",
    "\n",
    "As Odyssey can load all the data you have produced using the PumpBot to improve the convergence speed, we should collect it. That will be the first step you take in this notebook. \n",
    "\n",
    "To aid the optimizer, we will \"mix\" the pure colors, should that those points are also in the dataset, you will be feeding it."
   ]
  },
  {
   "cell_type": "code",
   "execution_count": null,
   "metadata": {},
   "outputs": [],
   "source": [
    "# Import all necessary modules and functions\n",
    "\n",
    "# Datalaoder\n",
    "from odyssey.navigators import DataLoader\n",
    "\n",
    "# Odyssey \n",
    "from odyssey.mission import Mission # Mission\n",
    "from odyssey.objective import Objective # Objective\n",
    "from odyssey.navigators import qNParEGO_Navigator, qEHVI_Navigator # Multi-Objective Navigators\n",
    "from odyssey.navigators.sampler_navigators import Sobol_Navigator, Grid_Navigator # Sampler\n",
    "\n",
    "# Other Packages\n",
    "import torch\n",
    "import numpy as np\n",
    "import pandas as pd   \n",
    "import matplotlib.pyplot as plt\n",
    "from IPython import display\n",
    "from warnings import catch_warnings, simplefilter\n",
    "\n",
    "from botorch.utils.multi_objective.pareto import is_non_dominated\n",
    "from botorch.utils.multi_objective.box_decompositions.non_dominated import NondominatedPartitioning\n",
    "\n",
    "# Pump Controller\n",
    "from pump_controller import pump_controller as PumpController\n"
   ]
  },
  {
   "cell_type": "code",
   "execution_count": null,
   "metadata": {},
   "outputs": [],
   "source": [
    "# Use DataLoader to load all PumpBot data. Careful NOT to load your in silico data here.\n",
    "\n",
    "# change the names of the files to match what you like to load\n",
    "\n",
    "# Define objective, mission and navigator\n",
    "objectives = [Objective(func= \"........... insert your code\"),\n",
    "              Objective(func= \"........... insert your code\"),]\n",
    "\n",
    "param_space = [(0, 1),(0, 1),(0, 1),(0, 1)]\n",
    "\n",
    "mission = Mission(name=\"MOO minimizing two functions\",\n",
    "                  funcs=objectives,\n",
    "                  maneuvers=['descend', 'descend'],\n",
    "                  envelope=param_space)\n",
    "\n",
    "\n",
    "num_init = 5\n",
    "\n",
    "# Define the navigator\n",
    "navigator = qNParEGO_Navigator(mission=mission,\n",
    "                               num_init_design=num_init,\n",
    "                               input_scaling=False,\n",
    "                               data_standardization=False,\n",
    "                               init_method=Sobol_Navigator(mission=mission), # Can also be grid or what optimizer you prefer\n",
    "                               acq_function_params={}\n",
    ")"
   ]
  },
  {
   "cell_type": "code",
   "execution_count": null,
   "metadata": {},
   "outputs": [],
   "source": [
    "# Add more cells as you wish! "
   ]
  },
  {
   "cell_type": "markdown",
   "metadata": {},
   "source": [
    "## Exercise 6.2: Start Bayesian optimization!\n",
    "\n",
    "Ask your TA to provide the target color(s) for you to work with. \n",
    "\n",
    "\n",
    "You will have to do all the code yourselves in this notebook by putting together pieces of code from your past exercises.\n",
    "\n",
    "Make sure you that you need to include all of the newly-generated data points whenever you start the new optimization sequence (instantiating a navigator). If not, you will not make use of the latest data points."
   ]
  },
  {
   "cell_type": "code",
   "execution_count": null,
   "metadata": {},
   "outputs": [],
   "source": [
    "# Initialize your PumpController\n",
    "calibratebot = PumpController(ser_port = None, drain_time=6, cell_volume=70, config_file=\"./config_files/config.json\")\n"
   ]
  },
  {
   "cell_type": "markdown",
   "metadata": {},
   "source": [
    "You can measure pH on the machine using the ´get_ph´function. Try it here:"
   ]
  },
  {
   "cell_type": "code",
   "execution_count": null,
   "metadata": {},
   "outputs": [],
   "source": [
    "PumpController.get_ph()"
   ]
  },
  {
   "cell_type": "markdown",
   "metadata": {},
   "source": [
    "Just as in the case of the silicobot, you can set pH to true in the ´mix_color´method, to make sure that the bot also measures pH:"
   ]
  },
  {
   "cell_type": "code",
   "execution_count": null,
   "metadata": {},
   "outputs": [],
   "source": [
    "PumpController.mix_color(col_list=[0.5, 0.5, 0.0, 0.0], ph=True)"
   ]
  },
  {
   "cell_type": "code",
   "execution_count": null,
   "metadata": {},
   "outputs": [],
   "source": [
    "# Your code goes here."
   ]
  }
 ],
 "metadata": {
  "interpreter": {
   "hash": "c1bceae1b0f30ee21e0b335445df0019c1035ce0f130113777dc9bc85664ba25"
  },
  "kernelspec": {
   "display_name": "Python 3.9.11 ('47332-2022': venv)",
   "language": "python",
   "name": "python3"
  },
  "language_info": {
   "codemirror_mode": {
    "name": "ipython",
    "version": 3
   },
   "file_extension": ".py",
   "mimetype": "text/x-python",
   "name": "python",
   "nbconvert_exporter": "python",
   "pygments_lexer": "ipython3",
   "version": "3.9.11"
  }
 },
 "nbformat": 4,
 "nbformat_minor": 4
}
