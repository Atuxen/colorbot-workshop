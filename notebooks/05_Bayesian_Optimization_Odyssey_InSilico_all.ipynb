{
 "cells": [
  {
   "cell_type": "markdown",
   "metadata": {},
   "source": [
    "# *In silico* Bayesian optimization with Odyssey\n",
    "\n",
    "We are now moving away from the local optimizer and use the *real world* Bayesian optimizer in a similar way that you used the SciPy optimizers in `02_Color_Mixing_and_Optimization_InSilico.ipynb`. \n",
    "\n",
    "You will be using [**Odyssey**](https://odyssey-auto-lab-de98adb48801ec6a9ad6d1738d8ce68e811b24234385b9.gitlab.io/), Python-based Bayesian optimization framework developed internally at DTU. You will move on to the PumpBot in the next exercise, so make sure you do proper coding and experiment with parameters in this exercise to make the next one easier. \n",
    "\n",
    "You have already gotten a good taste of coding your own Bayesian optimizer in the `04_Bayesian_Optimization_Tutorial.ipynb`, \n",
    "but you are generally better off using one of the readily available Bayesian optimizers unless you have something \n",
    "very specific in mind. Many of these are built on top of [BoTorch](https://botorch.org/), a very popular Bayesian optimization library in Python.\n",
    "\n",
    "Please take some time to read the [Structure of Odyssey](https://odyssey-auto-lab-de98adb48801ec6a9ad6d1738d8ce68e811b24234385b9.gitlab.io/getting-started/structure/) to have an overview its design.\n",
    "\n",
    "Let's start by importing `Odyssey` and some additional packages."
   ]
  },
  {
   "cell_type": "code",
   "execution_count": 6,
   "metadata": {},
   "outputs": [],
   "source": [
    "# Odyssey \n",
    "from odyssey.mission import Mission # Mission\n",
    "from odyssey.objective import Objective # Objective\n",
    "from odyssey.navigators import SingleGP_Navigator # Navigator\n",
    "from odyssey.navigators.sampler_navigators import Sobol_Navigator, Grid_Navigator # Sampler\n",
    "from odyssey.navigators import ExpectedImprovement, ProbabilityOfImprovement, UpperConfidenceBound, LogExpectedImprovement, LogProbabilityOfImprovement # Acquisition functions\n",
    "\n",
    "# Other Packages\n",
    "import torch\n",
    "import numpy as np\n",
    "import pandas as pd   \n",
    "import matplotlib.pyplot as plt\n",
    "from IPython import display\n",
    "from warnings import catch_warnings, simplefilter"
   ]
  },
  {
   "cell_type": "markdown",
   "metadata": {},
   "source": [
    "You can see that seeral classes are imported, including `Mission`, `Objective`, `SingleGP_Navigator`, `Sobol_Navigator`, `Grid_Navigator`, and the acquisition functions `ExpectedImprovement`, `LogEI`, `ProbabilityOfImprovement`, `UpperConfidenceBound`, `LogExpectedImprovement`, and `LogProbabilityOfImprovement`. You should read more about these here:\n",
    "\n",
    "- [Mission](https://odyssey-auto-lab-de98adb48801ec6a9ad6d1738d8ce68e811b24234385b9.gitlab.io/api_reference/mission/)\n",
    "- [Objective](https://odyssey-auto-lab-de98adb48801ec6a9ad6d1738d8ce68e811b24234385b9.gitlab.io/api_reference/objective/#odyssey.objective.Objective)\n",
    "- Single Objective Navigator:\n",
    "    - [SingleGP_Navigator](https://odyssey-auto-lab-de98adb48801ec6a9ad6d1738d8ce68e811b24234385b9.gitlab.io/api_reference/navigators/#odyssey.navigators.SingleGP_Navigator)\n",
    "- Sampler Navigator:\n",
    "    - [Sobol Sampler Navigator](https://odyssey-auto-lab-de98adb48801ec6a9ad6d1738d8ce68e811b24234385b9.gitlab.io/api_reference/navigators/#odyssey.navigators.sampler_navigators.Sobol_Navigator)\n",
    "- [Acquisition Functions](https://odyssey-auto-lab-de98adb48801ec6a9ad6d1738d8ce68e811b24234385b9.gitlab.io/api_reference/acquisition_functions/)"
   ]
  },
  {
   "cell_type": "markdown",
   "metadata": {},
   "source": [
    "## Exercise 1: Optimization of Single-Input-Single-Output (SISO) function\n",
    "\n",
    "Let's start with a (very) simple example of finding the global minimum of the function below for $x \\in [-5, 5]$."
   ]
  },
  {
   "cell_type": "code",
   "execution_count": 7,
   "metadata": {},
   "outputs": [],
   "source": [
    "def simple_function(x):\n",
    "    val = x ** 4 - 10 * x**2 + 5 * x\n",
    "    return val/100"
   ]
  },
  {
   "cell_type": "code",
   "execution_count": null,
   "metadata": {},
   "outputs": [],
   "source": []
  },
  {
   "cell_type": "markdown",
   "metadata": {},
   "source": [
    "Let's visualize the `simple_function` to see where the minimum values are."
   ]
  },
  {
   "cell_type": "code",
   "execution_count": 8,
   "metadata": {},
   "outputs": [
    {
     "data": {
      "image/png": "[encoded data removed]",
      "text/plain": [
       "<Figure size 600x400 with 1 Axes>"
      ]
     },
     "metadata": {},
     "output_type": "display_data"
    }
   ],
   "source": [
    "test_X = torch.linspace(-5, 5, 1000)\n",
    "test_Y = simple_function(test_X)\n",
    "\n",
    "plt.figure(figsize=(6, 4))\n",
    "plt.plot(test_X, test_Y, color='black')\n",
    "plt.xlabel('Input Parameter')\n",
    "plt.ylabel('Output Value')\n",
    "plt.show()"
   ]
  },
  {
   "cell_type": "markdown",
   "metadata": {},
   "source": [
    "You can see that there are two local minima: $x \\approx -2.35$ and $x \\approx +2.1$. The first one is the global minimum. \n",
    "\n",
    "We now proceed to find the global minimum using Odyssey. We start our \"mission\" (also often called campaign) using Odyssey's `Mission` class, which takes several attributes.  \n",
    "\n",
    "```python\n",
    "mission = Misson(name='Name of your mission',\n",
    "                 funcs=[],\n",
    "                 maneuvers=goals,\n",
    "                 envelope=param_space)\n",
    "```\n",
    "\n",
    "The `funcs` is a list of objective functions, while `manuevers` is a list of goals, which can be either ascend (i.e., finding global maximum) or descend (i.e., finding global minimum). We start by creating an objective function for Odyssey using our `simple_function`."
   ]
  },
  {
   "cell_type": "code",
   "execution_count": 9,
   "metadata": {},
   "outputs": [],
   "source": [
    "objective = Objective(func=simple_function)"
   ]
  },
  {
   "cell_type": "markdown",
   "metadata": {},
   "source": [
    "Next up, we initialize our mission. Note that `func` and `maneuvers` are list of length one for a single-objective optimization. The lengths of these attributes are longer for the multi-objective cases. "
   ]
  },
  {
   "cell_type": "code",
   "execution_count": 10,
   "metadata": {},
   "outputs": [],
   "source": [
    "mission = Mission(name=\"Minimizing a simple function\",\n",
    "                  funcs=[objective],\n",
    "                  maneuvers=['descend'],\n",
    "                  envelope=[(-5.0, 5.0)])"
   ]
  },
  {
   "cell_type": "markdown",
   "metadata": {},
   "source": [
    "We have now defined our mission by specifying our objective function, whether we would like to find a maximum/minimum, and the boundaries of the domain we would like to explore. The next step is to specify how we would like to navigate through our search space, and we achieve this using `Navigator`. \n",
    "\n",
    "We use `SingleGP_Navigator` for single-objective Bayesian optimization, which employs a single Gaussian Process (GP) model to approximate the objective function and guide the search for the optimal solution using an acquisition function. The first step of the optimization sequence to explore a fixed set of initial data points before using the acquisition function. Let's explore 3 initial points, which is selected in a uniform fashion by dividing our search space into grids. Once the initial points are explored, we will continue the optimization by using `ExpectedImprovement` as an acquisition function. "
   ]
  },
  {
   "cell_type": "code",
   "execution_count": 11,
   "metadata": {},
   "outputs": [
    {
     "name": "stdout",
     "output_type": "stream",
     "text": [
      "tensor([[5.]])\n",
      "tensor([[-5.]])\n",
      "tensor([[0.]])\n",
      "Succesfully appended {'param_1': [5.0, -5.0, 0.0], 'objective_1': [4.0, 3.5, 0.0], 'creation_timestamp': '26-05-25 23:48:44'} to missionlogs/Minimizing a simple function-260525_234844.csv\n"
     ]
    },
    {
     "name": "stderr",
     "output_type": "stream",
     "text": [
      "/Users/achtu/Library/Caches/pypoetry/virtualenvs/colorbot2--_9kUS4P-py3.12/lib/python3.12/site-packages/botorch/models/utils/assorted.py:174: InputDataWarning: Input data is not contained to the unit cube. Please consider min-max scaling the input data.\n",
      "  warnings.warn(msg, InputDataWarning)\n"
     ]
    }
   ],
   "source": [
    "num_init_points = 3\n",
    "navigator = SingleGP_Navigator(mission=mission,\n",
    "                               num_init_design=num_init_points,\n",
    "                               input_scaling=False,\n",
    "                               data_standardization=False,\n",
    "                               init_method=Grid_Navigator(mission=mission, subdivisions=num_init_points),\n",
    "                               acq_function_type=ExpectedImprovement,\n",
    "                               acq_function_params={'best_f': 0.0}\n",
    ")"
   ]
  },
  {
   "cell_type": "markdown",
   "metadata": {},
   "source": [
    "Although it was not so obvious, initantiating the navigator above has already selected 3 points and evaluated the objective function. You can see that by plotting the objective function and the observed points. Since we can use these functionalities multiple times, let's make them into functions."
   ]
  },
  {
   "cell_type": "code",
   "execution_count": 27,
   "metadata": {},
   "outputs": [],
   "source": [
    "def calculate_posterior():\n",
    "    model = navigator.model\n",
    "    pred_mean = -model.posterior(test_X).mean.detach().squeeze()\n",
    "    pred_std = torch.sqrt(model.posterior(test_X).variance).detach().squeeze()\n",
    "    return (pred_mean, pred_std)"
   ]
  },
  {
   "cell_type": "code",
   "execution_count": 28,
   "metadata": {},
   "outputs": [],
   "source": [
    "def plot_progres():\n",
    "    fig, ax = plt.subplots(figsize=(10, 6))\n",
    "    pred_mean, pred_std = calculate_posterior()\n",
    "    # Real function\n",
    "    ax.plot(test_X, test_Y, color='red', label='Real Function')\n",
    "    # Measurements\n",
    "    ax.scatter(mission.display_X, mission.display_Y, color = 'k', marker = '.', label='Measurements')\n",
    "    # Posterior model and uncertainty\n",
    "    ax.plot(test_X.squeeze(), pred_mean, color = 'g', linestyle = 'dashed', label = 'Posterior Model')\n",
    "    ax.fill_between(test_X.squeeze(), pred_mean - 2*pred_std, pred_mean + 2*pred_std, color  ='g', alpha = 0.3, label = 'Posterior Uncertainty')\n",
    "\n",
    "    ax.set_xlabel('Input Parameter')\n",
    "    ax.set_ylabel('Output Value')\n",
    "    ax.title.set_text(f'Iteration: {len(mission.train_X) - num_init_points}, new x = {trajectory.item():.3f}, y = {observation.item():.3f}')\n",
    "    ax.legend()\n",
    "\n",
    "    plt.show()"
   ]
  },
  {
   "cell_type": "code",
   "execution_count": null,
   "metadata": {},
   "outputs": [
    {
     "data": {
      "image/png": "[encoded data removed]",
      "text/plain": [
       "<Figure size 1000x600 with 1 Axes>"
      ]
     },
     "metadata": {},
     "output_type": "display_data"
    }
   ],
   "source": [
    "num_iter = 10\n",
    "\n",
    "from warnings import catch_warnings\n",
    "from warnings import simplefilter\n",
    "\n",
    "while len(mission.train_X) - num_init_points < num_iter:\n",
    "    with catch_warnings() as w:\n",
    "        simplefilter('ignore')\n",
    "        trajectory = navigator.trajectory()\n",
    "        observation = navigator.probe(trajectory, init = False)\n",
    "        navigator.relay(trajectory, observation)\n",
    "        navigator.upgrade()\n",
    "        \n",
    "        display.clear_output(wait=True) # This will help you remove figures as you go\n",
    "        plot_progres()\n",
    "        input('Press Enter to proceed.')"
   ]
  },
  {
   "cell_type": "markdown",
   "metadata": {},
   "source": [
    "You are **strongly** encouraged to experiment with different acquisition functions and parameters, including the `num_iter` value to see how the optimization progresses if you let it run longer. Once you are done with the optimization, you can run the cell below to see what is the best observed point is. "
   ]
  },
  {
   "cell_type": "code",
   "execution_count": null,
   "metadata": {},
   "outputs": [
    {
     "name": "stdout",
     "output_type": "stream",
     "text": [
      "Best Input: -2.4044812594133615\n",
      "Best Output: -0.36411616957861276\n"
     ]
    }
   ],
   "source": [
    "best_idx = mission.display_Y.argmin().item()\n",
    "best_input = mission.display_X[best_idx].item()\n",
    "best_output = mission.display_Y[best_idx].item()\n",
    "\n",
    "print(f'Best Input: {best_input}')\n",
    "print(f'Best Output: {best_output}')"
   ]
  },
  {
   "cell_type": "markdown",
   "metadata": {},
   "source": [
    "## Exercise 2: Single-Input-Single-Output (SISO) function with noise\n",
    "\n",
    "You have completed the most basic optimization. Let's make this a bit more challenging by adding some noise. Please read through the example from the Odyssey documentation [here](https://odyssey-auto-lab-de98adb48801ec6a9ad6d1738d8ce68e811b24234385b9.gitlab.io/examples/single-objective-optimization/) and run it yourself in the cells below. \n",
    "\n",
    "Feel free to add more cells as you need."
   ]
  },
  {
   "cell_type": "code",
   "execution_count": 16,
   "metadata": {},
   "outputs": [],
   "source": [
    "# place for your code"
   ]
  },
  {
   "cell_type": "code",
   "execution_count": 17,
   "metadata": {},
   "outputs": [],
   "source": [
    "# place for your code"
   ]
  },
  {
   "cell_type": "code",
   "execution_count": 18,
   "metadata": {},
   "outputs": [],
   "source": [
    "# place for your code"
   ]
  },
  {
   "cell_type": "code",
   "execution_count": 19,
   "metadata": {},
   "outputs": [],
   "source": [
    "# place for your code"
   ]
  },
  {
   "cell_type": "markdown",
   "metadata": {},
   "source": [
    "## Exercise 3: Moving on to the color mixing\n",
    "\n",
    "You have learned what you need to know about Odyssey! It is time to get back to the color mixing. \n",
    "\n",
    "As usual, we use `SilicoPumpController` of pump_controller module to simulate the color mixing. In case you have forgotten, you can read more about the different classes and methods in the pump_controller module [here](https://www.student.dtu.dk/~s193903/47332/).\n",
    "\n",
    "Reusing your code from the first *in silico* exercise, figure out how to mix the taget color below using Odyssey.\n",
    "\n",
    "You will use this code on the pumpbot tomorrow, so be thorough and make sure to include breakpoints during the function calls. Plotting progress using `visualize_candidates()` function will be very helpful in understanding how the optimization is progressing and whether or no you are satisfied with the results. "
   ]
  },
  {
   "cell_type": "code",
   "execution_count": 20,
   "metadata": {},
   "outputs": [],
   "source": [
    "# Pump Controller\n",
    "from pump_controller import SilicoPumpController, visualize_rgb, visualize_candidates, read_logfile"
   ]
  },
  {
   "cell_type": "code",
   "execution_count": 21,
   "metadata": {},
   "outputs": [],
   "source": [
    "target_color = [164., 176., 84.]"
   ]
  },
  {
   "cell_type": "code",
   "execution_count": 22,
   "metadata": {},
   "outputs": [],
   "source": [
    "# Let's have some noise to keep it real.\n",
    "silicobot = SilicoPumpController(noise_std = 3)"
   ]
  },
  {
   "cell_type": "code",
   "execution_count": null,
   "metadata": {},
   "outputs": [],
   "source": [
    "# function for getting the color difference\n",
    "def color_difference(mixed_color, target_color):\n",
    "    # your code goes here\n",
    "    r1, g1, b1 = input_color1[0], input_color1[1], input_color1[2]\n",
    "    r2, g2, b2 = input_color2[0], input_color2[1], input_color2[2]\n",
    "    sq_sum = (r1 - r2)**2 + (g1 - g2)**2 + (b1 - b2)**2\n",
    "    return np.sqrt(sq_sum)"
   ]
  },
  {
   "cell_type": "code",
   "execution_count": null,
   "metadata": {},
   "outputs": [],
   "source": [
    "# This is going to be your objective function\n",
    "def find_score_from_color(mixture):\n",
    "    # take the mixture [R, G, B, Y] and return the score. \n",
    "    measured_color = silicobot.mix_color(mixture)\n",
    "    score = color_difference(measured_color, silicobot.target_color)\n",
    "    return score\n"
   ]
  },
  {
   "cell_type": "code",
   "execution_count": 25,
   "metadata": {},
   "outputs": [],
   "source": [
    "silicobot.target_color = target_color"
   ]
  },
  {
   "cell_type": "code",
   "execution_count": null,
   "metadata": {},
   "outputs": [
    {
     "name": "stdout",
     "output_type": "stream",
     "text": [
      "tensor([[0.0000, 0.2500, 0.7500, 0.7500]])\n",
      "tensor([[0.5000, 0.5000, 0.2500, 0.0000]])\n",
      "tensor([[0.2500, 0.0000, 1.0000, 0.5000]])\n",
      "tensor([[0.7500, 0.7500, 0.5000, 1.0000]])\n",
      "tensor([[1.0000, 1.0000, 0.0000, 0.2500]])\n"
     ]
    },
    {
     "ename": "NameError",
     "evalue": "name 'input_color1' is not defined",
     "output_type": "error",
     "traceback": [
      "\u001b[0;31m---------------------------------------------------------------------------\u001b[0m",
      "\u001b[0;31mNameError\u001b[0m                                 Traceback (most recent call last)",
      "Cell \u001b[0;32mIn[26], line 10\u001b[0m\n\u001b[1;32m      3\u001b[0m mission \u001b[38;5;241m=\u001b[39m Mission(name\u001b[38;5;241m=\u001b[39m\u001b[38;5;124m\"\u001b[39m\u001b[38;5;124min silico color mixer\u001b[39m\u001b[38;5;124m\"\u001b[39m,\n\u001b[1;32m      4\u001b[0m                   funcs\u001b[38;5;241m=\u001b[39m[objective],\n\u001b[1;32m      5\u001b[0m                   maneuvers\u001b[38;5;241m=\u001b[39m[\u001b[38;5;124m'\u001b[39m\u001b[38;5;124mdescend\u001b[39m\u001b[38;5;124m'\u001b[39m],\n\u001b[1;32m      6\u001b[0m                   envelope\u001b[38;5;241m=\u001b[39m[(\u001b[38;5;241m0.0\u001b[39m, \u001b[38;5;241m1.0\u001b[39m), (\u001b[38;5;241m0.0\u001b[39m, \u001b[38;5;241m1.0\u001b[39m), (\u001b[38;5;241m0.0\u001b[39m, \u001b[38;5;241m1.0\u001b[39m), (\u001b[38;5;241m0.0\u001b[39m, \u001b[38;5;241m1.0\u001b[39m)])\n\u001b[1;32m      8\u001b[0m num_init_points \u001b[38;5;241m=\u001b[39m \u001b[38;5;241m5\u001b[39m\n\u001b[0;32m---> 10\u001b[0m navigator \u001b[38;5;241m=\u001b[39m \u001b[43mSingleGP_Navigator\u001b[49m\u001b[43m(\u001b[49m\u001b[43mmission\u001b[49m\u001b[38;5;241;43m=\u001b[39;49m\u001b[43mmission\u001b[49m\u001b[43m,\u001b[49m\n\u001b[1;32m     11\u001b[0m \u001b[43m                               \u001b[49m\u001b[43mnum_init_design\u001b[49m\u001b[38;5;241;43m=\u001b[39;49m\u001b[43mnum_init_points\u001b[49m\u001b[43m,\u001b[49m\n\u001b[1;32m     12\u001b[0m \u001b[43m                               \u001b[49m\u001b[43minput_scaling\u001b[49m\u001b[38;5;241;43m=\u001b[39;49m\u001b[38;5;28;43;01mFalse\u001b[39;49;00m\u001b[43m,\u001b[49m\n\u001b[1;32m     13\u001b[0m \u001b[43m                               \u001b[49m\u001b[43mdata_standardization\u001b[49m\u001b[38;5;241;43m=\u001b[39;49m\u001b[38;5;28;43;01mFalse\u001b[39;49;00m\u001b[43m,\u001b[49m\n\u001b[1;32m     14\u001b[0m \u001b[43m                               \u001b[49m\u001b[43minit_method\u001b[49m\u001b[38;5;241;43m=\u001b[39;49m\u001b[43mGrid_Navigator\u001b[49m\u001b[43m(\u001b[49m\u001b[43mmission\u001b[49m\u001b[38;5;241;43m=\u001b[39;49m\u001b[43mmission\u001b[49m\u001b[43m,\u001b[49m\u001b[43m \u001b[49m\u001b[43msubdivisions\u001b[49m\u001b[38;5;241;43m=\u001b[39;49m\u001b[43mnum_init_points\u001b[49m\u001b[43m)\u001b[49m\u001b[43m,\u001b[49m\n\u001b[1;32m     15\u001b[0m \u001b[43m                               \u001b[49m\u001b[43macq_function_type\u001b[49m\u001b[38;5;241;43m=\u001b[39;49m\u001b[43mProbabilityOfImprovement\u001b[49m\u001b[43m,\u001b[49m\n\u001b[1;32m     16\u001b[0m \u001b[43m                               \u001b[49m\u001b[43macq_function_params\u001b[49m\u001b[38;5;241;43m=\u001b[39;49m\u001b[43m{\u001b[49m\u001b[38;5;124;43m'\u001b[39;49m\u001b[38;5;124;43mbest_f\u001b[39;49m\u001b[38;5;124;43m'\u001b[39;49m\u001b[43m:\u001b[49m\u001b[43m \u001b[49m\u001b[38;5;241;43m0.0\u001b[39;49m\u001b[43m}\u001b[49m\n\u001b[1;32m     17\u001b[0m \u001b[43m)\u001b[49m\n",
      "File \u001b[0;32m~/Library/Caches/pypoetry/virtualenvs/colorbot2--_9kUS4P-py3.12/lib/python3.12/site-packages/odyssey/navigators/singlegp_navigator.py:54\u001b[0m, in \u001b[0;36mSingleGP_Navigator.__init__\u001b[0;34m(self, acq_function_type, acq_function_params, *args, **kwargs)\u001b[0m\n\u001b[1;32m     37\u001b[0m \u001b[38;5;28;01mdef\u001b[39;00m\u001b[38;5;250m \u001b[39m\u001b[38;5;21m__init__\u001b[39m(\u001b[38;5;28mself\u001b[39m,\n\u001b[1;32m     38\u001b[0m              acq_function_type: Type,\n\u001b[1;32m     39\u001b[0m              acq_function_params: \u001b[38;5;28mdict\u001b[39m,\n\u001b[1;32m     40\u001b[0m              \u001b[38;5;241m*\u001b[39margs,\n\u001b[1;32m     41\u001b[0m              \u001b[38;5;241m*\u001b[39m\u001b[38;5;241m*\u001b[39mkwargs\n\u001b[1;32m     42\u001b[0m     ):\n\u001b[1;32m     44\u001b[0m \u001b[38;5;250m    \u001b[39m\u001b[38;5;124;03m\"\"\"\u001b[39;00m\n\u001b[1;32m     45\u001b[0m \u001b[38;5;124;03m    Initializes a SingleGP_Navigator object.\u001b[39;00m\n\u001b[1;32m     46\u001b[0m \n\u001b[0;32m   (...)\u001b[0m\n\u001b[1;32m     51\u001b[0m \u001b[38;5;124;03m        **kwargs: Arbitrary keyword arguments.\u001b[39;00m\n\u001b[1;32m     52\u001b[0m \u001b[38;5;124;03m    \"\"\"\u001b[39;00m\n\u001b[0;32m---> 54\u001b[0m     \u001b[38;5;28;43msuper\u001b[39;49m\u001b[43m(\u001b[49m\u001b[43m)\u001b[49m\u001b[38;5;241;43m.\u001b[39;49m\u001b[38;5;21;43m__init__\u001b[39;49m\u001b[43m(\u001b[49m\u001b[38;5;241;43m*\u001b[39;49m\u001b[43margs\u001b[49m\u001b[43m,\u001b[49m\u001b[43m \u001b[49m\u001b[38;5;241;43m*\u001b[39;49m\u001b[38;5;241;43m*\u001b[39;49m\u001b[43mkwargs\u001b[49m\u001b[43m)\u001b[49m\n\u001b[1;32m     56\u001b[0m     \u001b[38;5;28;01massert\u001b[39;00m \u001b[38;5;28mlen\u001b[39m(\u001b[38;5;28mself\u001b[39m\u001b[38;5;241m.\u001b[39mmission\u001b[38;5;241m.\u001b[39mfuncs) \u001b[38;5;241m==\u001b[39m \u001b[38;5;241m1\u001b[39m, \u001b[38;5;124m\"\u001b[39m\u001b[38;5;124mSingleGPNavigator only supports single output missions\u001b[39m\u001b[38;5;124m\"\u001b[39m\n\u001b[1;32m     58\u001b[0m     \u001b[38;5;66;03m# Acquisition Function definition\u001b[39;00m\n",
      "File \u001b[0;32m~/Library/Caches/pypoetry/virtualenvs/colorbot2--_9kUS4P-py3.12/lib/python3.12/site-packages/odyssey/navigators/base_navigator.py:85\u001b[0m, in \u001b[0;36mNavigator.__init__\u001b[0;34m(self, mission, num_init_design, init_method, input_scaling, data_standardization, display_always_max)\u001b[0m\n\u001b[1;32m     82\u001b[0m \u001b[38;5;28mself\u001b[39m\u001b[38;5;241m.\u001b[39minit_method\u001b[38;5;241m.\u001b[39mmission \u001b[38;5;241m=\u001b[39m \u001b[38;5;28mself\u001b[39m\u001b[38;5;241m.\u001b[39mmission\n\u001b[1;32m     84\u001b[0m \u001b[38;5;66;03m# Generate init train_X using given init method and probe the functions\u001b[39;00m\n\u001b[0;32m---> 85\u001b[0m \u001b[38;5;28mself\u001b[39m\u001b[38;5;241m.\u001b[39mmission\u001b[38;5;241m.\u001b[39mtrain_X, \u001b[38;5;28mself\u001b[39m\u001b[38;5;241m.\u001b[39mmission\u001b[38;5;241m.\u001b[39mtrain_Y \u001b[38;5;241m=\u001b[39m \u001b[38;5;28;43mself\u001b[39;49m\u001b[38;5;241;43m.\u001b[39;49m\u001b[43mgenerate_init_data\u001b[49m\u001b[43m(\u001b[49m\u001b[43m)\u001b[49m\n\u001b[1;32m     87\u001b[0m \u001b[38;5;66;03m# Convert init train data to display data\u001b[39;00m\n\u001b[1;32m     88\u001b[0m \u001b[38;5;28mself\u001b[39m\u001b[38;5;241m.\u001b[39mmission\u001b[38;5;241m.\u001b[39mdisplay_X, \u001b[38;5;28mself\u001b[39m\u001b[38;5;241m.\u001b[39mmission\u001b[38;5;241m.\u001b[39mdisplay_Y \u001b[38;5;241m=\u001b[39m \u001b[38;5;28mself\u001b[39m\u001b[38;5;241m.\u001b[39mgenerate_display_data()\n",
      "File \u001b[0;32m~/Library/Caches/pypoetry/virtualenvs/colorbot2--_9kUS4P-py3.12/lib/python3.12/site-packages/odyssey/navigators/base_navigator.py:142\u001b[0m, in \u001b[0;36mNavigator.generate_init_data\u001b[0;34m(self)\u001b[0m\n\u001b[1;32m    138\u001b[0m     init_input \u001b[38;5;241m=\u001b[39m normalize(init_input, \u001b[38;5;28mself\u001b[39m\u001b[38;5;241m.\u001b[39mmission\u001b[38;5;241m.\u001b[39menvelope)\n\u001b[1;32m    141\u001b[0m \u001b[38;5;66;03m# Initial Data Probing\u001b[39;00m\n\u001b[0;32m--> 142\u001b[0m init_output \u001b[38;5;241m=\u001b[39m \u001b[38;5;28;43mself\u001b[39;49m\u001b[38;5;241;43m.\u001b[39;49m\u001b[43mprobe\u001b[49m\u001b[43m(\u001b[49m\u001b[43minput_data\u001b[49m\u001b[43m \u001b[49m\u001b[38;5;241;43m=\u001b[39;49m\u001b[43m \u001b[49m\u001b[43minit_input\u001b[49m\u001b[43m,\u001b[49m\u001b[43m \u001b[49m\u001b[43minit\u001b[49m\u001b[43m \u001b[49m\u001b[38;5;241;43m=\u001b[39;49m\u001b[43m \u001b[49m\u001b[38;5;28;43;01mTrue\u001b[39;49;00m\u001b[43m)\u001b[49m\n\u001b[1;32m    144\u001b[0m \u001b[38;5;28;01mreturn\u001b[39;00m init_input, init_output\n",
      "File \u001b[0;32m~/Library/Caches/pypoetry/virtualenvs/colorbot2--_9kUS4P-py3.12/lib/python3.12/site-packages/odyssey/navigators/base_navigator.py:287\u001b[0m, in \u001b[0;36mNavigator.probe\u001b[0;34m(self, input_data, init, *args, **kwargs)\u001b[0m\n\u001b[1;32m    285\u001b[0m \u001b[38;5;28;01mfor\u001b[39;00m d \u001b[38;5;129;01min\u001b[39;00m \u001b[38;5;28mrange\u001b[39m(\u001b[38;5;28mlen\u001b[39m(input_data)):\n\u001b[1;32m    286\u001b[0m     data \u001b[38;5;241m=\u001b[39m input_data[d]\u001b[38;5;241m.\u001b[39munsqueeze(\u001b[38;5;241m0\u001b[39m)\n\u001b[0;32m--> 287\u001b[0m     probed_value \u001b[38;5;241m=\u001b[39m \u001b[38;5;28;43mself\u001b[39;49m\u001b[38;5;241;43m.\u001b[39;49m\u001b[43mmission\u001b[49m\u001b[38;5;241;43m.\u001b[39;49m\u001b[43mfuncs\u001b[49m\u001b[43m[\u001b[49m\u001b[43mf\u001b[49m\u001b[43m]\u001b[49m\u001b[43m(\u001b[49m\u001b[43mdata\u001b[49m\u001b[43m)\u001b[49m\n\u001b[1;32m    289\u001b[0m     \u001b[38;5;28;01mif\u001b[39;00m d \u001b[38;5;241m==\u001b[39m \u001b[38;5;241m0\u001b[39m:\n\u001b[1;32m    290\u001b[0m         output \u001b[38;5;241m=\u001b[39m probed_value\n",
      "File \u001b[0;32m~/Library/Caches/pypoetry/virtualenvs/colorbot2--_9kUS4P-py3.12/lib/python3.12/site-packages/odyssey/objective/objective.py:61\u001b[0m, in \u001b[0;36mObjective.__call__\u001b[0;34m(self, *args, **kwargs)\u001b[0m\n\u001b[1;32m     58\u001b[0m merged_args \u001b[38;5;241m=\u001b[39m (\u001b[38;5;241m*\u001b[39m\u001b[38;5;28mself\u001b[39m\u001b[38;5;241m.\u001b[39margs, \u001b[38;5;241m*\u001b[39margs)\n\u001b[1;32m     59\u001b[0m merged_kwargs \u001b[38;5;241m=\u001b[39m {\u001b[38;5;241m*\u001b[39m\u001b[38;5;241m*\u001b[39m\u001b[38;5;28mself\u001b[39m\u001b[38;5;241m.\u001b[39mkwargs, \u001b[38;5;241m*\u001b[39m\u001b[38;5;241m*\u001b[39mkwargs}\n\u001b[0;32m---> 61\u001b[0m output \u001b[38;5;241m=\u001b[39m \u001b[38;5;28;43mself\u001b[39;49m\u001b[38;5;241;43m.\u001b[39;49m\u001b[43mfunc\u001b[49m\u001b[43m(\u001b[49m\u001b[38;5;241;43m*\u001b[39;49m\u001b[43mmerged_args\u001b[49m\u001b[43m,\u001b[49m\u001b[43m \u001b[49m\u001b[38;5;241;43m*\u001b[39;49m\u001b[38;5;241;43m*\u001b[39;49m\u001b[43mmerged_kwargs\u001b[49m\u001b[43m)\u001b[49m\n\u001b[1;32m     62\u001b[0m \u001b[38;5;28;01mif\u001b[39;00m \u001b[38;5;129;01mnot\u001b[39;00m \u001b[38;5;28misinstance\u001b[39m(output, torch\u001b[38;5;241m.\u001b[39mTensor):\n\u001b[1;32m     63\u001b[0m     output \u001b[38;5;241m=\u001b[39m torch\u001b[38;5;241m.\u001b[39mtensor(output)\n",
      "Cell \u001b[0;32mIn[24], line 5\u001b[0m, in \u001b[0;36mfind_score_from_color\u001b[0;34m(mixture)\u001b[0m\n\u001b[1;32m      2\u001b[0m \u001b[38;5;28;01mdef\u001b[39;00m\u001b[38;5;250m \u001b[39m\u001b[38;5;21mfind_score_from_color\u001b[39m(mixture):\n\u001b[1;32m      3\u001b[0m     \u001b[38;5;66;03m# take the mixture [R, G, B, Y] and return the score. \u001b[39;00m\n\u001b[1;32m      4\u001b[0m     measured_color \u001b[38;5;241m=\u001b[39m silicobot\u001b[38;5;241m.\u001b[39mmix_color(mixture)\n\u001b[0;32m----> 5\u001b[0m     score \u001b[38;5;241m=\u001b[39m \u001b[43mcolor_difference\u001b[49m\u001b[43m(\u001b[49m\u001b[43mmeasured_color\u001b[49m\u001b[43m,\u001b[49m\u001b[43m \u001b[49m\u001b[43msilicobot\u001b[49m\u001b[38;5;241;43m.\u001b[39;49m\u001b[43mtarget_color\u001b[49m\u001b[43m)\u001b[49m\n\u001b[1;32m      6\u001b[0m     \u001b[38;5;28;01mreturn\u001b[39;00m score\n",
      "Cell \u001b[0;32mIn[23], line 4\u001b[0m, in \u001b[0;36mcolor_difference\u001b[0;34m(mixed_color, target_color)\u001b[0m\n\u001b[1;32m      2\u001b[0m \u001b[38;5;28;01mdef\u001b[39;00m\u001b[38;5;250m \u001b[39m\u001b[38;5;21mcolor_difference\u001b[39m(mixed_color, target_color):\n\u001b[1;32m      3\u001b[0m     \u001b[38;5;66;03m# your code goes here\u001b[39;00m\n\u001b[0;32m----> 4\u001b[0m     r1, g1, b1 \u001b[38;5;241m=\u001b[39m \u001b[43minput_color1\u001b[49m[\u001b[38;5;241m0\u001b[39m], input_color1[\u001b[38;5;241m1\u001b[39m], input_color1[\u001b[38;5;241m2\u001b[39m]\n\u001b[1;32m      5\u001b[0m     r2, g2, b2 \u001b[38;5;241m=\u001b[39m input_color2[\u001b[38;5;241m0\u001b[39m], input_color2[\u001b[38;5;241m1\u001b[39m], input_color2[\u001b[38;5;241m2\u001b[39m]\n\u001b[1;32m      6\u001b[0m     sq_sum \u001b[38;5;241m=\u001b[39m (r1 \u001b[38;5;241m-\u001b[39m r2)\u001b[38;5;241m*\u001b[39m\u001b[38;5;241m*\u001b[39m\u001b[38;5;241m2\u001b[39m \u001b[38;5;241m+\u001b[39m (g1 \u001b[38;5;241m-\u001b[39m g2)\u001b[38;5;241m*\u001b[39m\u001b[38;5;241m*\u001b[39m\u001b[38;5;241m2\u001b[39m \u001b[38;5;241m+\u001b[39m (b1 \u001b[38;5;241m-\u001b[39m b2)\u001b[38;5;241m*\u001b[39m\u001b[38;5;241m*\u001b[39m\u001b[38;5;241m2\u001b[39m\n",
      "\u001b[0;31mNameError\u001b[0m: name 'input_color1' is not defined"
     ]
    }
   ],
   "source": [
    "objective = Objective(func=find_score_from_color)\n",
    "\n",
    "mission = Mission(name=\"in silico color mixer\",\n",
    "                  funcs=[objective],\n",
    "                  maneuvers=['descend'],\n",
    "                  envelope=[(0.0, 1.0), (0.0, 1.0), (0.0, 1.0), (0.0, 1.0)])\n",
    "\n",
    "num_init_points = 5\n",
    "\n",
    "navigator = SingleGP_Navigator(mission=mission,\n",
    "                               num_init_design=num_init_points,\n",
    "                               input_scaling=False,\n",
    "                               data_standardization=False,\n",
    "                               init_method=Grid_Navigator(mission=mission, subdivisions=num_init_points),\n",
    "                               acq_function_type=ProbabilityOfImprovement,\n",
    "                               acq_function_params={'best_f': 0.0}\n",
    ")"
   ]
  },
  {
   "cell_type": "code",
   "execution_count": null,
   "metadata": {},
   "outputs": [],
   "source": [
    "logs = read_logfile(silicobot.log_file)\n",
    "logs"
   ]
  },
  {
   "cell_type": "code",
   "execution_count": null,
   "metadata": {},
   "outputs": [],
   "source": [
    "logs['score'] = [color_difference(logs['measurement'][i], logs['target_measurement'][i]) for i in range(len(logs))]\n",
    "visualize_candidates(logs)"
   ]
  },
  {
   "cell_type": "code",
   "execution_count": null,
   "metadata": {},
   "outputs": [],
   "source": [
    "num_iter = 100\n",
    "while len(mission.train_X) - num_init_points < num_iter:\n",
    "\n",
    "    with catch_warnings() as w:\n",
    "        simplefilter('ignore')\n",
    "        \n",
    "        trajectory = navigator.trajectory()\n",
    "        observation = navigator.probe(trajectory, init = False)\n",
    "\n",
    "        navigator.relay(trajectory, observation)\n",
    "        navigator.upgrade()\n",
    "\n",
    "        logs = read_logfile(silicobot.log_file)\n",
    "        logs['score'] = [color_difference(logs['measurement'][i], logs['target_measurement'][i]) for i in range(len(logs))]\n",
    "\n",
    "        display.clear_output(wait=True)\n",
    "        visualize_candidates(logs)"
   ]
  },
  {
   "cell_type": "code",
   "execution_count": null,
   "metadata": {},
   "outputs": [],
   "source": [
    "best_idx = logs.score.argmin()\n",
    "\n",
    "best_score = logs.score[best_idx]\n",
    "best_mixture = logs.mixture[best_idx]\n",
    "best_color = logs.measurement[best_idx]\n",
    "\n",
    "print(f\"Score {best_score} at mixture {best_mixture} with color {best_color}\")"
   ]
  },
  {
   "cell_type": "code",
   "execution_count": null,
   "metadata": {},
   "outputs": [],
   "source": [
    "# place for your code"
   ]
  },
  {
   "cell_type": "code",
   "execution_count": null,
   "metadata": {},
   "outputs": [],
   "source": [
    "# place for your code"
   ]
  },
  {
   "cell_type": "code",
   "execution_count": null,
   "metadata": {},
   "outputs": [],
   "source": [
    "# place for your code"
   ]
  },
  {
   "cell_type": "code",
   "execution_count": null,
   "metadata": {},
   "outputs": [],
   "source": [
    "# place for your code.  Add more as needed."
   ]
  },
  {
   "cell_type": "code",
   "execution_count": null,
   "metadata": {},
   "outputs": [],
   "source": [
    "visualize_rgb(mixture = best_mixture,\n",
    "              rgb = best_color,\n",
    "              pump_controller = silicobot,\n",
    "              target = silicobot.target_color,\n",
    "              score = best_score\n",
    "              )"
   ]
  },
  {
   "cell_type": "markdown",
   "metadata": {},
   "source": [
    "When you are done, find the best observed point and plot its composition and color, taget color, and score using `visualize_rgb()` function."
   ]
  },
  {
   "cell_type": "markdown",
   "metadata": {},
   "source": [
    "# Re-using the old data"
   ]
  },
  {
   "cell_type": "markdown",
   "metadata": {},
   "source": [
    "One thing is being able to reuse data generated with Dragonfly. Another thing is using data generated by other means. I have written a small helper function for you to help you with this. It is on purpose semi-manual to allow you to see what is going on. Let us go back to the 2D case to try it out."
   ]
  },
  {
   "cell_type": "code",
   "execution_count": null,
   "metadata": {},
   "outputs": [],
   "source": [
    "from legobot import make_dragonfly_save_file"
   ]
  },
  {
   "cell_type": "markdown",
   "metadata": {},
   "source": [
    "Let us get some data. Normally you will not generate it but pull it out of a file."
   ]
  },
  {
   "cell_type": "code",
   "execution_count": null,
   "metadata": {},
   "outputs": [],
   "source": [
    "simple_function2D([2., 0.2])\n",
    "simple_function2D([1., -0.2])\n",
    "simple_function2D([-5., -1.])\n",
    "simple_function2D([5., 1.])\n",
    "simple_function2D([0., 0.])"
   ]
  },
  {
   "cell_type": "markdown",
   "metadata": {},
   "source": [
    "Let us make that data into a list with the below format."
   ]
  },
  {
   "cell_type": "code",
   "execution_count": null,
   "metadata": {},
   "outputs": [],
   "source": [
    "data_list = [[2.0, 0.2, 12.239999999999998],\n",
    "             [1.0, -0.2, 0.14],\n",
    "             [-5.0, -1.0, 600.5],\n",
    "             [5.0, 1.0, 601.5],\n",
    "             [0.0, 0.0, 0.0]]"
   ]
  },
  {
   "cell_type": "markdown",
   "metadata": {},
   "source": [
    "Dragonfly works in values relative to the bounds when saving data so we have to supply those as well. It also means that you should not use old savefiles when changing bounds, but you can always generate new savefiles from the raw results following the producere we examine here."
   ]
  },
  {
   "cell_type": "code",
   "execution_count": null,
   "metadata": {},
   "outputs": [],
   "source": [
    "constraints = [[-5., 5.], [-1., 1.]]"
   ]
  },
  {
   "cell_type": "markdown",
   "metadata": {},
   "source": [
    "Lets make the file with data. "
   ]
  },
  {
   "cell_type": "code",
   "execution_count": null,
   "metadata": {},
   "outputs": [],
   "source": [
    "# The two top line finds your home directory\n",
    "from pathlib import Path\n",
    "home = str(Path.home())\n",
    "\n",
    "filename = 'manual_data_simple_function2D'\n",
    "file_path = home + '/47332/data/'\n",
    "full_path = file_path + filename\n",
    "\n",
    "make_dragonfly_save_file(data_list, full_path, constraints,)"
   ]
  },
  {
   "cell_type": "markdown",
   "metadata": {},
   "source": [
    "Verify that you have written the file by looking at files in your data folder."
   ]
  },
  {
   "cell_type": "code",
   "execution_count": null,
   "metadata": {},
   "outputs": [],
   "source": [
    "!ls ~/47332/data/"
   ]
  },
  {
   "cell_type": "markdown",
   "metadata": {},
   "source": [
    "Next, try using the file by loading it in."
   ]
  },
  {
   "cell_type": "code",
   "execution_count": null,
   "metadata": {},
   "outputs": [],
   "source": [
    "# The two top line finds your home directory\n",
    "from pathlib import Path\n",
    "home = str(Path.home())\n",
    "\n",
    "options = Namespace(init_capital=9, build_new_model_every=9, report_results_every=9,\n",
    "                    progress_load_from_and_save_to=home + '/47332/data/manual_data_simple_function2D', progress_save_every=3)"
   ]
  },
  {
   "cell_type": "code",
   "execution_count": null,
   "metadata": {},
   "outputs": [],
   "source": [
    "max_func_calls = 5\n",
    "\n",
    "min_val, min_x_list, history = minimize_function(simple_function2D, constraints, max_func_calls, options=options)\n",
    "print(f'{min_x_list=}', f'{min_val=}')"
   ]
  },
  {
   "cell_type": "markdown",
   "metadata": {},
   "source": [
    "When you do this trick (or load in data into Dragonfly in general), the initialization phase will be skipped. You should thus make sure that the data you load in is sufficiently diverse.\n",
    "\n",
    "If you want practice and save time tomorrow, you can try this out with the SilicoColorMixer in the cells below."
   ]
  },
  {
   "cell_type": "code",
   "execution_count": null,
   "metadata": {},
   "outputs": [],
   "source": [
    "# place for your code"
   ]
  },
  {
   "cell_type": "code",
   "execution_count": null,
   "metadata": {},
   "outputs": [],
   "source": [
    "# place for your code"
   ]
  },
  {
   "cell_type": "code",
   "execution_count": null,
   "metadata": {},
   "outputs": [],
   "source": [
    "# place for your code"
   ]
  },
  {
   "cell_type": "code",
   "execution_count": null,
   "metadata": {},
   "outputs": [],
   "source": [
    "# place for your code"
   ]
  },
  {
   "cell_type": "markdown",
   "metadata": {},
   "source": [
    "This concludes todays notebook."
   ]
  }
 ],
 "metadata": {
  "kernelspec": {
   "display_name": "colorbot2--_9kUS4P-py3.12",
   "language": "python",
   "name": "python3"
  },
  "language_info": {
   "codemirror_mode": {
    "name": "ipython",
    "version": 3
   },
   "file_extension": ".py",
   "mimetype": "text/x-python",
   "name": "python",
   "nbconvert_exporter": "python",
   "pygments_lexer": "ipython3",
   "version": "3.12.3"
  }
 },
 "nbformat": 4,
 "nbformat_minor": 2
}
