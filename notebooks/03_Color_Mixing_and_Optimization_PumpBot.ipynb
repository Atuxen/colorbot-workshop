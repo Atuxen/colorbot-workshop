{
 "cells": [
  {
   "cell_type": "markdown",
   "metadata": {},
   "source": [
    "# Color mixing and optimization with the PumpBot\n",
    "\n",
    "This is the second full color mixing exercise in the **AI-orchestrated self-driving labs** course. \n",
    "\n",
    "In this exercise, you will explore the software used to control your PumpBot. You will mix water colored with food coloring with the bots, visualize the output and run a simple optimization. \n",
    "\n",
    "This exercise builds heavily on the *in silico* exercise you did in your first exercise. \n",
    "While you could have completed that exercise individually, you have to work as a group for this exercise. \n",
    "Only one of you can run the Python scripts on the robot at a time, so you should all try to run the robot at some point. \n",
    "If not today, then one of the other robot days. \n",
    "Communication, sharing of results, and screen sharing of the running code will be important. \n",
    "There might be some wait time during this exercise. \n",
    "You can enjoy the sight of the PumpBot working and keep an eye on it to make sure it behaves as intended. \n",
    "You can also get started with or work more on your group report.  \n",
    "\n",
    "Should you fail to finish this exercise within the time frame, there will be a chance to catch up later on.\n",
    "\n",
    "## Exercise 3.1: Get started with PumpController\n",
    "\n",
    "Now we can start mixing some colors in the real world. Similar to before, we import the `PumpController` class and a few extra functions helping us to connect to the PumpBot. \n",
    "\n",
    "You can read more about the different classes and methods in the pump_controller module [here](https://www.student.dtu.dk/~s193903/47332/)."
   ]
  },
  {
   "cell_type": "code",
   "execution_count": 2,
   "metadata": {},
   "outputs": [],
   "source": [
    "from pump_controller import PumpController, get_serial_port, list_serial_ports, visualize_rgb\n",
    "import matplotlib.pyplot as plt\n",
    "import numpy as np"
   ]
  },
  {
   "cell_type": "markdown",
   "metadata": {},
   "source": [
    "Now, we initialize the pumpbot. We need to figure out which port the controller is connected to your computer. The `get_serial_port()` function should automatically do this for you. If it fails for any reason, you can call the `list_serial_ports()` function to see all the ports on your computer. You can simply use the correct port as a string input instead of using the `get_serial_port()` function.\n",
    "\n",
    " \n",
    " The `cell_volume` and `drain_time` properties are already set as 20 mL and 20 seconds, respectively, but you have the option of changing them here. Notice that a folder called *logs* is created with a file with the current timestamp in it - this is where the colors that you mix on this controller in this session will be stored.\n",
    "\n",
    "\n",
    "You might want to change the `config_file` to your config file.\n",
    "\n",
    "If you have successfully initialized the pumpbot, you will see the \"PumpBot is ready\" message. If the \"PumpBot is ready\" message doesn't show up immediately, press the reset button on the PumpBot development board."
   ]
  },
  {
   "cell_type": "code",
   "execution_count": 3,
   "metadata": {},
   "outputs": [
    {
     "name": "stdout",
     "output_type": "stream",
     "text": [
      "Serial port /dev/cu.usbserial-310 opened @ 115200\n"
     ]
    },
    {
     "ename": "KeyboardInterrupt",
     "evalue": "",
     "output_type": "error",
     "traceback": [
      "\u001b[31m---------------------------------------------------------------------------\u001b[39m",
      "\u001b[31mKeyboardInterrupt\u001b[39m                         Traceback (most recent call last)",
      "\u001b[36mCell\u001b[39m\u001b[36m \u001b[39m\u001b[32mIn[3]\u001b[39m\u001b[32m, line 1\u001b[39m\n\u001b[32m----> \u001b[39m\u001b[32m1\u001b[39m pumpbot = \u001b[43mPumpController\u001b[49m\u001b[43m(\u001b[49m\u001b[43mser_port\u001b[49m\u001b[43m \u001b[49m\u001b[43m=\u001b[49m\u001b[43m \u001b[49m\u001b[43mget_serial_port\u001b[49m\u001b[43m(\u001b[49m\u001b[43m)\u001b[49m\u001b[43m,\u001b[49m\u001b[43m \u001b[49m\u001b[43mcell_volume\u001b[49m\u001b[43m \u001b[49m\u001b[43m=\u001b[49m\u001b[43m \u001b[49m\u001b[32;43m20\u001b[39;49m\u001b[43m,\u001b[49m\u001b[43m \u001b[49m\u001b[43mdrain_time\u001b[49m\u001b[43m \u001b[49m\u001b[43m=\u001b[49m\u001b[43m \u001b[49m\u001b[32;43m20\u001b[39;49m\u001b[43m,\u001b[49m\u001b[43m \u001b[49m\u001b[43mconfig_file\u001b[49m\u001b[43m \u001b[49m\u001b[43m=\u001b[49m\u001b[43m \u001b[49m\u001b[33;43m'\u001b[39;49m\u001b[33;43mconfig_files/config.json\u001b[39;49m\u001b[33;43m'\u001b[39;49m\u001b[43m)\u001b[49m\n\u001b[32m      3\u001b[39m \u001b[38;5;66;03m# If the command does not work, list serial ports and manually put it.\u001b[39;00m\n\u001b[32m      4\u001b[39m \u001b[38;5;66;03m# list_serial_ports()\u001b[39;00m\n\u001b[32m      5\u001b[39m \u001b[38;5;66;03m# pumpbot = PumpController(ser_port = '/dev/ttyUSB0', cell_volume = 20, drain_time = 20)\u001b[39;00m\n",
      "\u001b[36mFile \u001b[39m\u001b[32m~/DTU/codebase/colorbot/ai-orchestrated-sdl/pump_controller/pump_controller.py:87\u001b[39m, in \u001b[36mPumpController.__init__\u001b[39m\u001b[34m(self, ser_port, baud_rate, cell_volume, drain_time, config_file)\u001b[39m\n\u001b[32m     85\u001b[39m \u001b[38;5;28mself\u001b[39m.ser = serial.Serial(ser_port, baud_rate)\n\u001b[32m     86\u001b[39m \u001b[38;5;28mprint\u001b[39m(\u001b[33mf\u001b[39m\u001b[33m\"\u001b[39m\u001b[33mSerial port \u001b[39m\u001b[38;5;132;01m{\u001b[39;00mser_port\u001b[38;5;132;01m}\u001b[39;00m\u001b[33m opened @ \u001b[39m\u001b[38;5;132;01m{\u001b[39;00mbaud_rate\u001b[38;5;132;01m}\u001b[39;00m\u001b[33m\"\u001b[39m)\n\u001b[32m---> \u001b[39m\u001b[32m87\u001b[39m \u001b[38;5;28;43mself\u001b[39;49m\u001b[43m.\u001b[49m\u001b[43mwait_for_colorbot\u001b[49m\u001b[43m(\u001b[49m\u001b[43m)\u001b[49m\n\u001b[32m     89\u001b[39m \u001b[38;5;66;03m# Prompt user for credentials and wait\u001b[39;00m\n\u001b[32m     90\u001b[39m \u001b[38;5;28;01mwhile\u001b[39;00m \u001b[38;5;28mself\u001b[39m.mode.upper() \u001b[38;5;129;01mnot\u001b[39;00m \u001b[38;5;129;01min\u001b[39;00m (\u001b[33m\"\u001b[39m\u001b[33mUSB\u001b[39m\u001b[33m\"\u001b[39m, \u001b[33m\"\u001b[39m\u001b[33mWIFI\u001b[39m\u001b[33m\"\u001b[39m):\n",
      "\u001b[36mFile \u001b[39m\u001b[32m~/DTU/codebase/colorbot/ai-orchestrated-sdl/pump_controller/pump_controller.py:327\u001b[39m, in \u001b[36mPumpController.wait_for_colorbot\u001b[39m\u001b[34m(self)\u001b[39m\n\u001b[32m    325\u001b[39m \u001b[38;5;28;01mwhile\u001b[39;00m \u001b[38;5;28mself\u001b[39m.ser.in_waiting == \u001b[32m0\u001b[39m:\n\u001b[32m    326\u001b[39m     \u001b[38;5;28;01mpass\u001b[39;00m\n\u001b[32m--> \u001b[39m\u001b[32m327\u001b[39m msg = \u001b[38;5;28;43mself\u001b[39;49m\u001b[43m.\u001b[49m\u001b[43mrecv_from_colorbot\u001b[49m\u001b[43m(\u001b[49m\u001b[43m)\u001b[49m\n\u001b[32m    328\u001b[39m \u001b[38;5;28mprint\u001b[39m(msg)\n\u001b[32m    329\u001b[39m \u001b[38;5;28mself\u001b[39m.send_to_colorbot(\u001b[33m\"\u001b[39m\u001b[33mCONTINUE\u001b[39m\u001b[33m\"\u001b[39m)\n",
      "\u001b[36mFile \u001b[39m\u001b[32m~/DTU/codebase/colorbot/ai-orchestrated-sdl/pump_controller/pump_controller.py:292\u001b[39m, in \u001b[36mPumpController.recv_from_colorbot\u001b[39m\u001b[34m(self, timeout)\u001b[39m\n\u001b[32m    290\u001b[39m \u001b[38;5;28;01mwhile\u001b[39;00m time.time() - start_time < timeout:\n\u001b[32m    291\u001b[39m     \u001b[38;5;28;01mwhile\u001b[39;00m \u001b[38;5;28mord\u001b[39m(x) != start_marker:\n\u001b[32m--> \u001b[39m\u001b[32m292\u001b[39m         x = \u001b[38;5;28;43mself\u001b[39;49m\u001b[43m.\u001b[49m\u001b[43mser\u001b[49m\u001b[43m.\u001b[49m\u001b[43mread\u001b[49m\u001b[43m(\u001b[49m\u001b[43m)\u001b[49m\n\u001b[32m    294\u001b[39m     \u001b[38;5;28;01mwhile\u001b[39;00m \u001b[38;5;28mord\u001b[39m(x) != end_marker:\n\u001b[32m    295\u001b[39m         \u001b[38;5;28;01mif\u001b[39;00m \u001b[38;5;28mord\u001b[39m(x) != start_marker:\n",
      "\u001b[36mFile \u001b[39m\u001b[32m~/Library/Caches/pypoetry/virtualenvs/ai-orchestrated-sdl-HM1YmV5R-py3.12/lib/python3.12/site-packages/serial/serialposix.py:565\u001b[39m, in \u001b[36mSerial.read\u001b[39m\u001b[34m(self, size)\u001b[39m\n\u001b[32m    563\u001b[39m \u001b[38;5;28;01mwhile\u001b[39;00m \u001b[38;5;28mlen\u001b[39m(read) < size:\n\u001b[32m    564\u001b[39m     \u001b[38;5;28;01mtry\u001b[39;00m:\n\u001b[32m--> \u001b[39m\u001b[32m565\u001b[39m         ready, _, _ = \u001b[43mselect\u001b[49m\u001b[43m.\u001b[49m\u001b[43mselect\u001b[49m\u001b[43m(\u001b[49m\u001b[43m[\u001b[49m\u001b[38;5;28;43mself\u001b[39;49m\u001b[43m.\u001b[49m\u001b[43mfd\u001b[49m\u001b[43m,\u001b[49m\u001b[43m \u001b[49m\u001b[38;5;28;43mself\u001b[39;49m\u001b[43m.\u001b[49m\u001b[43mpipe_abort_read_r\u001b[49m\u001b[43m]\u001b[49m\u001b[43m,\u001b[49m\u001b[43m \u001b[49m\u001b[43m[\u001b[49m\u001b[43m]\u001b[49m\u001b[43m,\u001b[49m\u001b[43m \u001b[49m\u001b[43m[\u001b[49m\u001b[43m]\u001b[49m\u001b[43m,\u001b[49m\u001b[43m \u001b[49m\u001b[43mtimeout\u001b[49m\u001b[43m.\u001b[49m\u001b[43mtime_left\u001b[49m\u001b[43m(\u001b[49m\u001b[43m)\u001b[49m\u001b[43m)\u001b[49m\n\u001b[32m    566\u001b[39m         \u001b[38;5;28;01mif\u001b[39;00m \u001b[38;5;28mself\u001b[39m.pipe_abort_read_r \u001b[38;5;129;01min\u001b[39;00m ready:\n\u001b[32m    567\u001b[39m             os.read(\u001b[38;5;28mself\u001b[39m.pipe_abort_read_r, \u001b[32m1000\u001b[39m)\n",
      "\u001b[31mKeyboardInterrupt\u001b[39m: "
     ]
    }
   ],
   "source": [
    "#pumpbot = PumpController(ser_port = get_serial_port(), cell_volume = 20, drain_time = 20, config_file = 'config_files/config.json')\n",
    "\n",
    "# If the command does not work, list serial ports and manually put it.\n",
    "# list_serial_ports()\n",
    "# pumpbot = PumpController(ser_port = '/dev/ttyUSB0', cell_volume = 20, drain_time = 20)"
   ]
  },
  {
   "cell_type": "markdown",
   "metadata": {},
   "source": [
    "Before doing anything else, we should purge all the pumps. This means filling all of the tubes with their respective liquids. We do this by using the `purge_pump` function, which takes the pump name ('R', 'G', 'B', 'Y', 'W', 'D') and the time to run the pump, as variables. Do this one-by-one until all tubes are filled with liquid. The drain tubes of course do not need to be purged. You can then drain the test cell using the `drain` function which by itself drains the whole cell for the defined drain time in the previous cell, but you can also define a custom drain time here. If needed you can also flush the cell with water using the `flush` function and then drain again."
   ]
  },
  {
   "cell_type": "code",
   "execution_count": null,
   "metadata": {},
   "outputs": [],
   "source": [
    "# pumpbot.purge_pump('R', 1)\n",
    "# pumpbot.purge_pump('G', 1)\n",
    "# pumpbot.purge_pump('B', 1)\n",
    "# pumpbot.purge_pump('Y', 1)\n",
    "pumpbot.purge_pump('W', 4)\n",
    "\n",
    "# Drain:\n",
    "# pumpbot.drain() \n",
    "\n",
    "# Drain for custom time:\n",
    "# pumpbot.drain(drain_time = 10)\n",
    "\n",
    "# Flush:\n",
    "# pumpbot.flush()"
   ]
  },
  {
   "cell_type": "markdown",
   "metadata": {},
   "source": [
    "At this point, your teacher would give you a color that you have to match, where you do not know anything about the mixture. You can pour this color into the test cell using a syringe and the extra hole in the lid of the test cell. Use the `measure` function to measure this color and store this in the `target_color` property of the pumpbot. \n",
    "\n",
    "\n",
    "If at any point you feel like making your own target color and trying to match it, you can do it in the same way as with the **SilicoPumpController** and the `change_target` function"
   ]
  },
  {
   "cell_type": "code",
   "execution_count": null,
   "metadata": {},
   "outputs": [],
   "source": [
    "pumpbot.target_color = pumpbot.measure()\n",
    "print(pumpbot.target_color)\n",
    "\n",
    "# Make your own target color:\n",
    "# pumpbot.change_target([0.1, 0.2, 0.3, 0.4])\n",
    "# print(pumpbot.target_mixture)\n",
    "# print(pumpbot.target_color)"
   ]
  },
  {
   "cell_type": "markdown",
   "metadata": {},
   "source": [
    "After the target color is measured, you should empty the test cell. This can be done using the `reset` function. This function drains the cell, flushes it with water and then drains the cell again. This is equivalent to calling the `drain`, `flush` and `drain` functions."
   ]
  },
  {
   "cell_type": "code",
   "execution_count": null,
   "metadata": {},
   "outputs": [],
   "source": [
    "pumpbot.reset()"
   ]
  },
  {
   "cell_type": "markdown",
   "metadata": {},
   "source": [
    "## Exercise 3.2: Measure the first color and calculate the score\n",
    "\n",
    "Just like you did in `02_Color_Mixing_and_Optimization_InSilico.ipynb`, you will now quantify the difference between a color you have mixed and a target color given by the teacher. You have just measured the taget color. Use the same vizualization methods as in the *in silico* exercise. Reuse or improve the \"score\" function you made.\n",
    "\n",
    "We again define the `color_difference` function to find the match score between two colors"
   ]
  },
  {
   "cell_type": "code",
   "execution_count": null,
   "metadata": {},
   "outputs": [],
   "source": [
    "# Difference between mixed and target colors:\n",
    "def color_difference(mixed_color, target_color):\n",
    "    # you should know what to do on this at this point"
   ]
  },
  {
   "cell_type": "markdown",
   "metadata": {},
   "source": [
    "Now you can mix a color with a ratio of the R, G, B, Y you decide. The following commands will perform the folowing sequence of actions.\n",
    "1. mix the color\n",
    "2. make a measurement\n",
    "3. drain\n",
    "4. flush\n",
    "5. drain.   "
   ]
  },
  {
   "cell_type": "code",
   "execution_count": null,
   "metadata": {},
   "outputs": [],
   "source": [
    "input_volumes = [0.1, 0.1, 0.1, 0.1]\n",
    "measured_color = pumpbot.mix_color(input_volumes)\n",
    "\n",
    "print(f\"Measured Color: {measured_color}\")\n",
    "print(f\"Target Color: {pumpbot.target_color}\")"
   ]
  },
  {
   "cell_type": "markdown",
   "metadata": {},
   "source": [
    "You can also calculate the score of the mixture."
   ]
  },
  {
   "cell_type": "code",
   "execution_count": null,
   "metadata": {},
   "outputs": [],
   "source": [
    "score = color_difference(measured_color, pumpbot.target_color)\n",
    "print(f\"Score: {score}\")"
   ]
  },
  {
   "cell_type": "markdown",
   "metadata": {},
   "source": [
    "Let's visualize this newly mixed color, along with the mixed ratio, taget color, and the score."
   ]
  },
  {
   "cell_type": "code",
   "execution_count": null,
   "metadata": {},
   "outputs": [],
   "source": [
    "visualize_rgb(mixture = input_volumes,\n",
    "              rgb = measured_color,\n",
    "              pump_controller = pumpbot,\n",
    "              target = pumpbot.target_color,\n",
    "              score = score)"
   ]
  },
  {
   "cell_type": "markdown",
   "metadata": {},
   "source": [
    "Do some different mixing of colors now by changing the ratios in `input_volumes`. Note that you should instantiate the `PumpController` again if you like to start fresh. If you do not do that, the pumpbot will keep appending the data to the same log file (which is not necessarily a bad thing if that is what you want). Refill colors when they run low and empty the drain container if it is filled."
   ]
  },
  {
   "cell_type": "code",
   "execution_count": null,
   "metadata": {},
   "outputs": [],
   "source": [
    "# For you to play with"
   ]
  },
  {
   "cell_type": "code",
   "execution_count": null,
   "metadata": {},
   "outputs": [],
   "source": [
    "# For you to play with"
   ]
  },
  {
   "cell_type": "code",
   "execution_count": null,
   "metadata": {},
   "outputs": [],
   "source": [
    "# For you to play with. Add more as needed using the \"plus\" button below \"File\"."
   ]
  },
  {
   "cell_type": "markdown",
   "metadata": {},
   "source": [
    "Try mixing the same color multiple times to get an idea about the noise in the system."
   ]
  },
  {
   "cell_type": "code",
   "execution_count": null,
   "metadata": {},
   "outputs": [],
   "source": [
    "# For you to play with"
   ]
  },
  {
   "cell_type": "code",
   "execution_count": null,
   "metadata": {},
   "outputs": [],
   "source": [
    "# For you to play with"
   ]
  },
  {
   "cell_type": "code",
   "execution_count": null,
   "metadata": {},
   "outputs": [],
   "source": [
    "# For you to play with"
   ]
  },
  {
   "cell_type": "code",
   "execution_count": null,
   "metadata": {},
   "outputs": [],
   "source": [
    "# For you to play with"
   ]
  },
  {
   "cell_type": "code",
   "execution_count": null,
   "metadata": {},
   "outputs": [],
   "source": [
    "# For you to play with. Add more as needed"
   ]
  },
  {
   "cell_type": "markdown",
   "metadata": {},
   "source": [
    "## Exercise 3.3: Optimization\n",
    "\n",
    "It is now the time to run an optimization to determine how you can best mix the target color.\n",
    "\n",
    "If you remember back from the *in silico*, you often have to do a large number of function calls to get the optimization going. Do not go through all the steps you did in exercise 1 but jump directly to the optimizer and parameters you think worked and will work the best. See if you can produce some nice optimization figures. \n",
    "\n",
    "Should the optimizer encounter an error for some reason, rather than starting over from the initial `input_volumes`, start from the last set of inputs the optimizer used.\n",
    "\n",
    "Be sure to add some break points during your optimization sequence to allow yourself to empty and refill the containers in between.."
   ]
  },
  {
   "cell_type": "code",
   "execution_count": null,
   "metadata": {},
   "outputs": [],
   "source": [
    "import numpy as np\n",
    "from IPython import display\n",
    "from pump_controller import visualize_candidates, read_logfile\n",
    "from scipy.optimize import minimize"
   ]
  },
  {
   "cell_type": "code",
   "execution_count": null,
   "metadata": {},
   "outputs": [],
   "source": [
    "# For you to play with. Add cells as needed."
   ]
  },
  {
   "cell_type": "code",
   "execution_count": null,
   "metadata": {},
   "outputs": [],
   "source": []
  },
  {
   "cell_type": "code",
   "execution_count": null,
   "metadata": {},
   "outputs": [],
   "source": [
    "func_calls=[0]\n",
    "\n",
    "def find_score_from_color(input_volumes, func_calls=func_calls):  \n",
    "    # 1. mix new color based on the input volumes and calculate its score \n",
    "    # ...\n",
    "    # ...\n",
    "    # 2. read logfile and visualize candidates\n",
    "    # display.clear_output(wait=True)\n",
    "    # ...\n",
    "    # ...\n",
    "    \n",
    "    func_calls[0] += 1\n",
    "    if func_calls[0] % 5 == 0:\n",
    "        input('Optimization paused. Check your setup and press Enter.')\n",
    "    return score"
   ]
  },
  {
   "cell_type": "code",
   "execution_count": null,
   "metadata": {},
   "outputs": [],
   "source": [
    "func_calls = [0]\n",
    "input_volumes = [0.1, 0.1, 0.1, 0.1]\n",
    "\n",
    "res = minimize(find_score_from_color, input_volumes, method='L-BFGS-B',\n",
    "               bounds = 4*[[0.0, 1.0]], \n",
    "               options={'disp': True, 'eps': 0.1, 'maxiter': 5, 'gtol': 0.1, 'maxfun':100})"
   ]
  },
  {
   "cell_type": "markdown",
   "metadata": {},
   "source": [
    "You might want to use some of your old data at some point. Do not delete your log files, unless you believe that the measurements are corrupted for some reason. \n",
    "\n",
    "Ask your TAs for different target colors and be sure to tinker with different optimizers and parameter values. "
   ]
  }
 ],
 "metadata": {
  "kernelspec": {
   "display_name": "ai-orchestrated-sdl-HM1YmV5R-py3.12",
   "language": "python",
   "name": "python3"
  },
  "language_info": {
   "codemirror_mode": {
    "name": "ipython",
    "version": 3
   },
   "file_extension": ".py",
   "mimetype": "text/x-python",
   "name": "python",
   "nbconvert_exporter": "python",
   "pygments_lexer": "ipython3",
   "version": "3.12.3"
  }
 },
 "nbformat": 4,
 "nbformat_minor": 4
}
