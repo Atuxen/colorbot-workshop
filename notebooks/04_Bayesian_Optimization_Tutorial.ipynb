{
 "cells": [
  {
   "cell_type": "markdown",
   "metadata": {},
   "source": [
    "# Tutorial on Bayesian Optimization\n",
    "\n",
    "[Bayesian optimization](https://en.wikipedia.org/wiki/Bayesian_optimization) is an optimization method that uses Bayes Theorem to _direct_ the search to find the minimum/maximum of an objective function. \n",
    "\n",
    "Let's start by recalling that Bayes Theorem is an approach for calculating the conditional probability of an event:\n",
    "\\begin{equation}\n",
    "P(A|B) = \\frac{P(B|A)P(A)}{P(B)}.\n",
    "\\end{equation}\n",
    "The expression can be simplified by removing the normalization factor $P(B)$, which still allows us to achieve our goal of optimizing a quantity by describing the conditional probability as a proportional quantity. \n",
    "\\begin{equation}\n",
    "P(A|B) = P(B|A) P(A).\n",
    "\\end{equation}"
   ]
  },
  {
   "cell_type": "markdown",
   "metadata": {},
   "source": [
    "We can devise specific samples $\\{x_1, x_2, \\cdots, x_n\\}$ and evaluate them using the objective function $f(x_i)$ that returns the cost or outcome for the sample $x_i$. Samples and their outcome are collected sequentially and define our data $D$, e.g. $D = \\{x_i, f(x_i), \\cdots, x_n, f(x_n)\\}$ and is used to define the prior. The likelihood function is defined as the probability of observing the data given the function $P(D|f)$. This likelihood function will change as more observations are collected.\n",
    "\n",
    "\\begin{equation}\n",
    "P(f|D) = P(D|f) P(f)\n",
    "\\end{equation}\n",
    "The posterior represents everything we know about the objective function, and it is an approximation of the objective function and can be used to estimate the value of $f()$ of different candidate samples. In this way, the posterior probability is a surrogate objective function. \n",
    "\n",
    "**Surrogate Function**: Bayesian approximation of the objective function that can be sampled efficiently.\n",
    "\n",
    "The surrogate function gives us an estimate of the objective function, which can be used to direct future sampling. Sampling involves careful use of the posterior in a function known as the \"acquisition\" function, e.g. for acquiring more samples. We want to use our belief about the objective function to sample the area of the search space that is most likely to pay off (either as an exploration or exploitation). \n",
    "\n",
    "**Acquisition Function**: Technique by which the posterior is used to select the next sample from the search space. \n",
    "\n",
    "The acquisition function will optimize the conditional probability of locations in the search to generate the next sample. Once additional samples and their evaluation via the objective function $f()$ have been collected, they are added to data $D$ and the posterior is then updated. \n",
    "\n",
    "This process is repeated until the extrema of the objective function are located, a good enough result is located, or resources are exhausted. \n",
    "\n",
    "The Bayesian Optimization algorithm can be summarized as follows:\n",
    "\n",
    "1. Select a sample by optimizing the acquisition function\n",
    "2. Evaluate the sample with the objective function \n",
    "3. Update the data and, in turn, the surrogate function\n",
    "4. Go to 1.\n"
   ]
  },
  {
   "cell_type": "markdown",
   "metadata": {},
   "source": [
    "# How to perform Bayesian Optimization\n",
    "\n",
    "We will now explore how Bayesian Optimization works by developing an implementation from scratch for a simple one-dimensional \n",
    "test function. \n",
    "\n",
    "First, we will define the test problem, then how to model the mapping of inputs to outputs with a surrogate function. \n",
    "Next, we will see how the surrogate function can be searched efficiently with an aqcuisition function before tying \n",
    "all of these elements together into the Bayesian Optimization procedure."
   ]
  },
  {
   "cell_type": "markdown",
   "metadata": {},
   "source": [
    "## Example Problem\n",
    "\n",
    "We will use a multimodal problem with five peaks, calculated as\n",
    "\\begin{equation}\n",
    "y = x^2 \\sin^6(5 \\pi x),\n",
    "\\end{equation}\n",
    "where $x$ is a real value in the range [0, 1).\n",
    "\n",
    "We will augment this function by adding Gaussian noise with a mean of zero and a standard deviation of 0.1. This will mean that the real evaluation will have a positive or negative random value added to it, making the function challenging to optimize.\n",
    "\n",
    "The `objective()` function below implements this."
   ]
  },
  {
   "cell_type": "code",
   "execution_count": 1,
   "metadata": {},
   "outputs": [],
   "source": [
    "from numpy.random import normal\n",
    "from math import sin\n",
    "from math import pi\n",
    "\n",
    "# objective function\n",
    "def objective(x: float) -> float:\n",
    "    return (x**2 * sin(5 * pi * x)**6.0)"
   ]
  },
  {
   "cell_type": "markdown",
   "metadata": {},
   "source": [
    "We can test this function by first defining a grid-based sample of inputs from 0 to 1 with a step size of 0.01 across the domain."
   ]
  },
  {
   "cell_type": "code",
   "execution_count": 2,
   "metadata": {},
   "outputs": [
    {
     "name": "stdout",
     "output_type": "stream",
     "text": [
      "[0.   0.01 0.02 0.03 0.04 0.05 0.06 0.07 0.08 0.09 0.1  0.11 0.12 0.13\n",
      " 0.14 0.15 0.16 0.17 0.18 0.19 0.2  0.21 0.22 0.23 0.24 0.25 0.26 0.27\n",
      " 0.28 0.29 0.3  0.31 0.32 0.33 0.34 0.35 0.36 0.37 0.38 0.39 0.4  0.41\n",
      " 0.42 0.43 0.44 0.45 0.46 0.47 0.48 0.49 0.5  0.51 0.52 0.53 0.54 0.55\n",
      " 0.56 0.57 0.58 0.59 0.6  0.61 0.62 0.63 0.64 0.65 0.66 0.67 0.68 0.69\n",
      " 0.7  0.71 0.72 0.73 0.74 0.75 0.76 0.77 0.78 0.79 0.8  0.81 0.82 0.83\n",
      " 0.84 0.85 0.86 0.87 0.88 0.89 0.9  0.91 0.92 0.93 0.94 0.95 0.96 0.97\n",
      " 0.98 0.99]\n"
     ]
    }
   ],
   "source": [
    "from numpy import arange\n",
    "# grid-based sample of the domain [0,1)\n",
    "X = arange(0, 1, 0.01)\n",
    "print(X)"
   ]
  },
  {
   "cell_type": "markdown",
   "metadata": {},
   "source": [
    "We can then evaluate these samples using the target function to see what the objective function looks like."
   ]
  },
  {
   "cell_type": "code",
   "execution_count": 3,
   "metadata": {},
   "outputs": [
    {
     "name": "stdout",
     "output_type": "stream",
     "text": [
      "[0.0, 1.4655297809619805e-09, 3.483005625052574e-07, 7.879943409141716e-06, 6.598300562505258e-05, 0.0003124999999999999, 0.0010093652949374528, 0.002451779358719597, 0.004736067977499789, 0.007519770412501646, 0.010000000000000002, 0.01123323728287283, 0.01065615294937453, 0.008456136971910446, 0.005495433272437245, 0.002812500000000001, 0.0010557280900008426, 0.00025303373836021753, 2.821234556292591e-05, 5.290562509272771e-07, 1.3493515170493364e-97, 6.462986334042298e-07, 4.2144368063136055e-05, 0.00046316556260399575, 0.0023753882025018902, 0.007812499999999996, 0.0189536372049366, 0.03647647250013438, 0.058016832724372414, 0.07807564094955408, 0.09, 0.08921604156066769, 0.07577708763999667, 0.05448954533970696, 0.03241184113743602, 0.015312499999999937, 0.00534462345562927, 0.001198626947457226, 0.00012573650306439859, 2.2290707968431933e-06, 3.454339883646301e-95, 2.4635555617971495e-06, 0.00015360054806481783, 0.0016188905959447766, 0.007983943680631343, 0.025312499999999964, 0.05932824900243464, 0.11053021639615504, 0.17049844718999238, 0.22290084889403014, 0.25, 0.24146818324588606, 0.20009887204936624, 0.14055200446210883, 0.08175858888993383, 0.03781249999999988, 0.012932669102510336, 0.0028446595707001415, 0.0002929207730669237, 5.101509167528892e-06, 8.853095303360691e-94, 5.453236314959267e-06, 0.0003347168405675502, 0.0034750550434315174, 0.016891649440013406, 0.05281250000000018, 0.12213320068743162, 0.22461301104678136, 0.3421809113743595, 0.4419953942459302, 0.4900000000000001, 0.46798966233852873, 0.38362150617748336, 0.2666435143391179, 0.15353567652993058, 0.07031250000000056, 0.023819865030644063, 0.005191131608089, 0.0005297651555705017, 9.146371362983584e-06, 8.843110102134531e-93, 9.6153408928917e-06, 0.0005854932455713516, 0.00603165890506417, 0.029098505480648053, 0.09031249999999925, 0.20736849225992726, 0.37872485645201104, 0.5730642252774739, 0.7353592770052536, 0.81, 0.7687804788385939, 0.6263449900243478, 0.43276407497072983, 0.24774310405742456, 0.11281249999999973, 0.03800621124003046, 0.00823804305962397, 0.0008362696505751328, 1.436365738320918e-05]\n"
     ]
    }
   ],
   "source": [
    "# sample the domain \n",
    "y = [objective(x) for x in X]\n",
    "print(y)"
   ]
  },
  {
   "cell_type": "markdown",
   "metadata": {},
   "source": [
    "We would not know this in practice, but for out test problem, it is good to know the real best input and output of the function to see if the Bayesian Optimization algorithm can locate it."
   ]
  },
  {
   "cell_type": "code",
   "execution_count": 4,
   "metadata": {},
   "outputs": [
    {
     "name": "stdout",
     "output_type": "stream",
     "text": [
      "Optima: x=0.9, y=0.81\n"
     ]
    }
   ],
   "source": [
    "from numpy import argmax\n",
    "# find best result\n",
    "ix = argmax(y)\n",
    "print(f\"Optima: x={X[ix]:.3}, y={y[ix]:.3}\")"
   ]
  },
  {
   "cell_type": "markdown",
   "metadata": {},
   "source": [
    "The global optima is an input with the value 0.9 that gives the score 0.81.\n",
    "\n",
    "Finally, we can create a plot, first showing the evaluation as a scatter plot with input on the x-axis and score on the y-axis, then a line plot of the scores without any noise."
   ]
  },
  {
   "cell_type": "code",
   "execution_count": 5,
   "metadata": {},
   "outputs": [
    {
     "data": {
      "image/png": "[encoded data removed]",
      "text/plain": [
       "<Figure size 640x480 with 1 Axes>"
      ]
     },
     "metadata": {},
     "output_type": "display_data"
    }
   ],
   "source": [
    "from matplotlib import pyplot\n",
    "\n",
    "# plot the points\n",
    "pyplot.plot(X, y)\n",
    "# show the plot\n",
    "pyplot.show()"
   ]
  },
  {
   "cell_type": "markdown",
   "metadata": {},
   "source": [
    "## Surrogate Function \n",
    "\n",
    "The surrogate function is a technique used to best approximate the mapping of design parameters to an output score. It summarizes the conditional probability of an objective function ($f$), given the available data ($D$) or $P(f|D)$.\n",
    "\n",
    "We use Gaussian Process (GP) construct a joint probability distribution over the variables, assuming a multivariate Gaussian distribution. As such, it is capable of efficient and effective summarization of a large number of functions and smooth transition as more observations are made available to the model.\n",
    "\n",
    "This smooth structure and smooth transition to new functions based on data are desirable properties as we sample the domain, and the multivariate Gaussian basis to the model means that an estimate from the model will be a mean of a distribution with a standard deviation; that will be helpful later in the acquisition function.\n",
    "\n",
    "We can fit a GP regression model using the [GaussianProcessRegressor](https://scikit-learn.org/stable/modules/generated/sklearn.gaussian_process.GaussianProcessRegressor.html) scikit-learn implementation from a sample of inputs ($X$) and evaluations from the objective function ($y$).\n",
    "\n",
    "First, the model must be defined. An important aspect in defining the GP model is the kernel. This controls the shape of the function at specific points based on distance measured between actual data observations. Many different kernel functions can be used, and some may offer better performance for specific datasets.\n",
    "\n",
    "By default, a [Radial Basis Function](https://en.wikipedia.org/wiki/Radial_basis_function), or RBF, is used that can work well.\n",
    "\n",
    "```python\n",
    "# define the model\n",
    "model = GaussianProcessRegressor()\n",
    "```\n",
    "\n",
    "Once defined, the model can be fit on the training dataset directly by calling the `fit()` function. \n",
    "\n",
    "```python\n",
    "# fit the model\n",
    "model.fit(X, y)\n",
    "```\n",
    "\n",
    "The model will estimate the cost for one or more samples provided to it.\n",
    "\n",
    "The model is used by calling the `predict()` function. The result for a given sample will be a mean of the distribution at that point. We can also get the standard deviation of the distribution at that point in the function by specifying the argument `return_std=True`. For example:\n",
    "\n",
    "```python\n",
    "yhat = model.predict(X, return_std=True)\n",
    "```\n",
    "\n",
    "This function can result in warnings if the distribution is thin at a given point we are interested in sampling. Therefore, we silence all of the warnings when making a prediction. The `surrogate()` function below takes the fit model and one or more samples and returns the mean and standard deviation estimated costs without printing any warnings.\n",
    "\n",
    "```python\n",
    "# surrogate or approximation for the objective function\n",
    "def surrogate(model, X):\n",
    "    # catch any warning generated when making a prediction\n",
    "    with catch_warnings():\n",
    "        # ignore generated warnings\n",
    "        simplefilter(\"ignore\")\n",
    "        return model.predict(X, return_std=True)\n",
    "```\n",
    "\n",
    "We can call this function any time to estimate the cost of one or more samples, such as when we want to optimize the acquisition function in the next section. For now, it is interesting to see what the surrogate function looks like across the domain after it is trained on a random sample. \n",
    "\n",
    "We achieve this by first fitting the GP model on a random sample of 100 data points and their real objective function values. We can then plot a scatter plot of these points. Next, we can perform a grid-based sample across the input domain and estimate the cost at each point using the surrogate function and plot the result as a line.\n",
    "\n",
    "We would expect the surrogate function to have a crude approximation of the true objective function. The `plot()` function below creates this plot, given the random data sample of the objective function and the fit model.\n",
    "\n",
    "```python\n",
    "# plot real observations vs surrogate function\n",
    "def plot(X, y, model):\n",
    "    # scatter plot of inputs and real objective function\n",
    "    pyplot.scatter(X, y)\n",
    "    # line plot of surrogate function across domain\n",
    "    Xsamples = asarray(arange(0, 1, 0.001))\n",
    "    Xsamples = Xsamples.reshape(len(Xsamples), 1)\n",
    "    ysamples, _ = surrogate(model, Xsamples)\n",
    "    pyplot.plot(Xsamples, ysamples)\n",
    "    # show the plot\n",
    "    pyplot.show()\n",
    "```\n",
    "\n",
    "Tying this together, the complete example of fitting a Gaussian Process regression model and plotting the sample vs. the surrogate function is listed below."
   ]
  },
  {
   "cell_type": "code",
   "execution_count": 6,
   "metadata": {},
   "outputs": [
    {
     "data": {
      "image/png": "[encoded data removed]",
      "text/plain": [
       "<Figure size 640x480 with 1 Axes>"
      ]
     },
     "metadata": {},
     "output_type": "display_data"
    }
   ],
   "source": [
    "# example of a gaussian process surrogate function\n",
    "from math import sin\n",
    "from math import pi\n",
    "from numpy import arange\n",
    "from numpy import asarray\n",
    "from numpy.random import normal\n",
    "from numpy.random import random\n",
    "from matplotlib import pyplot\n",
    "from warnings import catch_warnings\n",
    "from warnings import simplefilter\n",
    "from sklearn.gaussian_process import GaussianProcessRegressor\n",
    " \n",
    "# objective function\n",
    "def objective(x):\n",
    "    return (x**2 * sin(5 * pi * x)**6.0)\n",
    " \n",
    "# surrogate or approximation for the objective function\n",
    "def surrogate(model, X):\n",
    "    # catch any warning generated when making a prediction\n",
    "    with catch_warnings():\n",
    "        # ignore generated warnings\n",
    "        simplefilter(\"ignore\")\n",
    "        return model.predict(X, return_std=True)\n",
    " \n",
    "# plot real observations vs surrogate function\n",
    "def plot(X, y, model):\n",
    "    # scatter plot of inputs and real objective function\n",
    "    pyplot.scatter(X, y)\n",
    "    # line plot of surrogate function across domain\n",
    "    Xsamples = asarray(arange(0, 1, 0.001))\n",
    "    Xsamples = Xsamples.reshape(len(Xsamples), 1)\n",
    "    ysamples, _ = surrogate(model, Xsamples)\n",
    "    pyplot.plot(Xsamples, ysamples)\n",
    "    # show the plot\n",
    "    pyplot.show()\n",
    " \n",
    "# sample the domain sparsely with noise\n",
    "X = random(100)\n",
    "y = asarray([objective(x) for x in X])\n",
    "# reshape into rows and cols\n",
    "X = X.reshape(len(X), 1)\n",
    "y = y.reshape(len(y), 1)\n",
    "# define the model\n",
    "model = GaussianProcessRegressor()\n",
    "# fit the model\n",
    "model.fit(X, y)\n",
    "# plot the surrogate function\n",
    "plot(X, y, model)"
   ]
  },
  {
   "cell_type": "markdown",
   "metadata": {},
   "source": [
    "Running the example first draws the random sample, evaluates it with the objective function, then fits the GP model.\n",
    "\n",
    "The data samples are plotted as dots and the surrogate function is plotted as a line.\n",
    "\n",
    "As we expected, the plot resembles a crude version of the underlying objective function, importantly with a peak around 0.9 where we know the true maxima is located.\n",
    "\n",
    "Next, we must define a strategy for sampling the surrogate function.\n",
    "\n",
    "## Acquisition Function\n",
    "\n",
    "The surrogate function is used to test a range of candidate samples in the domain. Using the surrogate model results, candidate(s) can be selected and evaluated with the real, computationally expensive cost function.\n",
    "\n",
    "This involves two pieces: the search strategy used to navigate the domain in response to the surrogate function and the acquisition function that is used to interpret and score the response from the surrogate function.\n",
    "\n",
    "In this example, we will use a random search in order to keep the example simple. This involves first drawing a random sample of candidate samples from the domain, evaluating them with the acquisition function, then maximizing the acquisition function or choosing the candidate sample that gives the best score. The `opt_acquisition()` function below implements this.\n",
    "\n",
    "```python\n",
    "# optimize the acquisition function\n",
    "def opt_acquisition(X, y, model):\n",
    "    # random search, generate random samples\n",
    "    Xsamples = random(100)\n",
    "    Xsamples = Xsamples.reshape(len(Xsamples), 1)\n",
    "    # calculate the acquisition function for each sample\n",
    "    scores = acquisition(X, Xsamples, model)\n",
    "    # locate the index of the largest scores\n",
    "    ix = argmax(scores)\n",
    "    return Xsamples[ix, 0]\n",
    "```\n",
    "\n",
    "The acquisition function is responsible for scoring or estimating the likelihood that a given candidate sample (input) is worth evaluating with the real objective function.\n",
    "\n",
    "We could just use the surrogate score directly. Alternately, given that we have chosen a Gaussian Process model as the surrogate function, we can use the probabilistic information from this model in the acquisition function to calculate the probability that a given sample is worth evaluating.\n",
    "\n",
    "There are many different types of probabilistic acquisition functions that can be used, each providing a different trade-off for how exploitative (greedy) and explorative they are.\n",
    "\n",
    "Three common examples include:\n",
    "\n",
    "* Probability of Improvement (PI).\n",
    "* Expected Improvement (EI).\n",
    "* Lower Confidence Bound (LCB).\n",
    "\n",
    "The Probability of Improvement (PI) method is the simplest, whereas the Expected Improvement method is the most commonly used. In this exercise, we will use the simpler PI method, which is calculated as the normal cumulative probability of the normalized expected improvement. It is calculated as follows:\n",
    "\n",
    "$\\mathrm{PI} = \\mathrm{cdf}((\\mu – \\mu_{best})/\\mathrm{stdev})$\n",
    "\n",
    "\n",
    "$\\mathrm{cdf}()$ is the normal cumulative distribution function, $\\mu$ is the mean of the surrogate function for a given sample $x$, $\\mathrm{stdev}$ is the standard deviation of the surrogate function for a given sample $x$, and $\\mu_{best}$ is the mean of the surrogate function for the best sample found so far.\n",
    "\n",
    "We can add a very small number to the standard deviation to avoid a divide by zero error.\n",
    "\n",
    "The `acquisition()` function below implements this given the current training dataset of input samples, an array of new candidate samples, and the fit GP model.\n",
    "\n",
    "```python\n",
    "# probability of improvement acquisition function\n",
    "def acquisition(X, Xsamples, model):\n",
    "    # calculate the best surrogate score found so far\n",
    "    yhat, _ = surrogate(model, X)\n",
    "    best = max(yhat)\n",
    "    # calculate mean and stdev via surrogate function\n",
    "    mu, std = surrogate(model, Xsamples)\n",
    "    mu = mu[:, 0]\n",
    "    # calculate the probability of improvement\n",
    "    probs = norm.cdf((mu - best) / (std+1E-9))\n",
    "    return probs\n",
    "```"
   ]
  },
  {
   "cell_type": "markdown",
   "metadata": {},
   "source": [
    "## Complete Bayesian Optimization Algorithm\n",
    "\n",
    "We can tie all of this together into the Bayesian Optimization algorithm.\n",
    "\n",
    "The main algorithm involves cycles of selecting candidate samples, evaluating them with the objective function, then updating the GP model.\n",
    "\n",
    "```python\n",
    "# perform the optimization process\n",
    "for i in range(100):\n",
    "    # select the next point to sample\n",
    "    x = opt_acquisition(X, y, model)\n",
    "    # sample the point\n",
    "    actual = objective(x)\n",
    "    # summarize the finding for our own reporting\n",
    "    est, _ = surrogate(model, [[x]])\n",
    "    print('>x=%.3f, f()=%3f, actual=%.3f' % (x, est, actual))\n",
    "    # add the data to the dataset\n",
    "    X = vstack((X, [[x]]))\n",
    "    y = vstack((y, [[actual]]))\n",
    "    # update the model\n",
    "    model.fit(X, y)\n",
    "```\n",
    "The complete code is shown below.  Running the example first creates an initial random sample of the search space and evaluation of the results. Then a GP model is fit on this data.\n",
    "\n",
    "Your specific results will vary given the stochastic nature of the sampling of the domain. Try running the example a few times.\n",
    "\n",
    "A plot is created showing the raw observations as dots and the surrogate function across the entire domain. In this case, the initial sample has a good spread across the domain and the surrogate function has a bias towards the part of the domain where we know the optima is located."
   ]
  },
  {
   "cell_type": "code",
   "execution_count": 7,
   "metadata": {},
   "outputs": [
    {
     "data": {
      "image/png": "[encoded data removed]",
      "text/plain": [
       "<Figure size 640x480 with 1 Axes>"
      ]
     },
     "metadata": {},
     "output_type": "display_data"
    },
    {
     "name": "stdout",
     "output_type": "stream",
     "text": [
      ">x=0.0898, f()=0.00806, actual=0.00745\n",
      ">x=0.899, f()=0.392, actual=0.806\n",
      ">x=0.0358, f()=-0.00743, actual=2.96e-05\n",
      ">x=0.725, f()=0.136, actual=0.333\n",
      ">x=0.899, f()=0.428, actual=0.807\n",
      ">x=0.621, f()=0.122, actual=0.00047\n",
      ">x=0.084, f()=0.00804, actual=0.00581\n",
      ">x=0.091, f()=0.0101, actual=0.00779\n",
      ">x=0.901, f()=0.461, actual=0.811\n",
      ">x=0.482, f()=0.109, actual=0.183\n",
      ">x=0.199, f()=0.0131, actual=1.13e-14\n",
      ">x=0.9, f()=0.488, actual=0.81\n",
      ">x=0.9, f()=0.511, actual=0.81\n",
      ">x=0.901, f()=0.531, actual=0.811\n",
      ">x=0.901, f()=0.549, actual=0.811\n",
      ">x=0.9, f()=0.564, actual=0.811\n",
      ">x=0.862, f()=0.512, actual=0.244\n",
      ">x=0.777, f()=0.228, actual=0.00106\n",
      ">x=0.958, f()=0.325, actual=0.0495\n",
      ">x=0.702, f()=0.0971, actual=0.491\n",
      ">x=0.901, f()=0.554, actual=0.811\n",
      ">x=0.753, f()=0.182, actual=0.0504\n",
      ">x=0.904, f()=0.566, actual=0.809\n",
      ">x=0.952, f()=0.378, actual=0.0915\n",
      ">x=0.128, f()=0.022, actual=0.00887\n",
      ">x=0.0193, f()=-0.0126, actual=2.68e-07\n",
      ">x=0.901, f()=0.569, actual=0.811\n",
      ">x=0.105, f()=0.0182, actual=0.0108\n",
      ">x=0.755, f()=0.181, actual=0.044\n",
      ">x=0.966, f()=0.215, actual=0.0171\n",
      ">x=0.901, f()=0.577, actual=0.811\n",
      ">x=0.207, f()=0.00739, actual=6.94e-08\n",
      ">x=0.045, f()=-0.00451, actual=0.000152\n",
      ">x=0.834, f()=0.423, actual=0.012\n",
      ">x=0.901, f()=0.577, actual=0.811\n",
      ">x=0.872, f()=0.54, actual=0.42\n",
      ">x=0.903, f()=0.583, actual=0.81\n",
      ">x=0.306, f()=0.00318, actual=0.0913\n",
      ">x=0.307, f()=0.00752, actual=0.0908\n",
      ">x=0.777, f()=0.216, actual=0.00115\n",
      ">x=0.701, f()=0.0838, actual=0.491\n",
      ">x=0.658, f()=0.101, actual=0.105\n",
      ">x=0.555, f()=0.147, actual=0.0222\n",
      ">x=0.822, f()=0.37, actual=0.00114\n",
      ">x=0.48, f()=0.132, actual=0.173\n",
      ">x=0.134, f()=0.0248, actual=0.00742\n",
      ">x=0.903, f()=0.581, actual=0.81\n",
      ">x=0.861, f()=0.502, actual=0.22\n",
      ">x=0.181, f()=0.0217, actual=1.97e-05\n",
      ">x=0.906, f()=0.582, actual=0.797\n",
      ">x=0.905, f()=0.59, actual=0.802\n",
      ">x=0.906, f()=0.597, actual=0.802\n",
      ">x=0.198, f()=0.0165, actual=3.81e-11\n",
      ">x=0.643, f()=0.0999, actual=0.0234\n",
      ">x=0.00449, f()=0.00625, actual=2.45e-12\n",
      ">x=0.655, f()=0.0895, actual=0.082\n",
      ">x=0.453, f()=0.118, actual=0.0338\n",
      ">x=0.85, f()=0.468, actual=0.0917\n",
      ">x=0.906, f()=0.596, actual=0.801\n",
      ">x=0.619, f()=0.113, actual=0.00026\n",
      ">x=0.486, f()=0.136, actual=0.204\n",
      ">x=0.905, f()=0.603, actual=0.802\n",
      ">x=0.999, f()=-0.523, actual=9.69e-13\n",
      ">x=0.453, f()=0.114, actual=0.0326\n",
      ">x=0.908, f()=0.598, actual=0.79\n",
      ">x=0.564, f()=0.135, actual=0.00722\n",
      ">x=0.787, f()=0.229, actual=4.49e-05\n",
      ">x=0.907, f()=0.603, actual=0.791\n",
      ">x=0.196, f()=0.0159, actual=2.13e-09\n",
      ">x=0.511, f()=0.138, actual=0.24\n",
      ">x=0.67, f()=0.0732, actual=0.227\n",
      ">x=0.594, f()=0.123, actual=2.32e-07\n",
      ">x=0.288, f()=0.00158, actual=0.0743\n",
      ">x=0.908, f()=0.607, actual=0.788\n",
      ">x=0.908, f()=0.612, actual=0.783\n",
      ">x=0.908, f()=0.617, actual=0.784\n",
      ">x=0.899, f()=0.616, actual=0.808\n",
      ">x=0.874, f()=0.56, actual=0.451\n",
      ">x=0.908, f()=0.624, actual=0.783\n",
      ">x=0.908, f()=0.628, actual=0.784\n",
      ">x=0.882, f()=0.589, actual=0.608\n",
      ">x=0.0621, f()=-0.00355, actual=0.00124\n",
      ">x=0.205, f()=0.0147, actual=6.25e-09\n",
      ">x=0.583, f()=0.125, actual=0.000124\n",
      ">x=0.775, f()=0.186, actual=0.00209\n",
      ">x=0.196, f()=0.0168, actual=3.52e-09\n",
      ">x=0.115, f()=0.0196, actual=0.0112\n",
      ">x=0.279, f()=0.00114, actual=0.0567\n",
      ">x=0.405, f()=0.0742, actual=4.59e-08\n",
      ">x=0.486, f()=0.131, actual=0.206\n",
      ">x=0.44, f()=0.104, actual=0.00809\n",
      ">x=0.366, f()=0.0371, actual=0.00241\n",
      ">x=0.227, f()=0.0083, actual=0.000255\n",
      ">x=0.91, f()=0.632, actual=0.772\n",
      ">x=0.998, f()=-0.384, actual=5.85e-10\n",
      ">x=0.91, f()=0.631, actual=0.764\n",
      ">x=0.0138, f()=-0.0044, actual=1.92e-08\n",
      ">x=0.266, f()=0.00126, actual=0.0295\n",
      ">x=0.034, f()=-0.0107, actual=2.01e-05\n",
      ">x=0.91, f()=0.634, actual=0.764\n"
     ]
    },
    {
     "data": {
      "image/png": "[encoded data removed]",
      "text/plain": [
       "<Figure size 640x480 with 1 Axes>"
      ]
     },
     "metadata": {},
     "output_type": "display_data"
    },
    {
     "name": "stdout",
     "output_type": "stream",
     "text": [
      "Best Result: x=0.901, y=0.811\n"
     ]
    }
   ],
   "source": [
    "from math import sin\n",
    "from math import pi\n",
    "from numpy import arange\n",
    "from numpy import vstack\n",
    "from numpy import argmax\n",
    "from numpy import asarray\n",
    "from numpy.random import normal\n",
    "from numpy.random import random\n",
    "from scipy.stats import norm\n",
    "from sklearn.gaussian_process import GaussianProcessRegressor\n",
    "from warnings import catch_warnings\n",
    "from warnings import simplefilter\n",
    "from matplotlib import pyplot\n",
    "\n",
    "# objective function\n",
    "def objective(x):\n",
    "\treturn (x**2 * sin(5 * pi * x)**6.0)\n",
    "\n",
    "# surrogate or approximation for the objective function\n",
    "def surrogate(model, X):\n",
    "    # catch any warning generated when making a prediction\n",
    "    with catch_warnings():\n",
    "        # ignore generated warnings\n",
    "        simplefilter(\"ignore\")\n",
    "        return model.predict(X, return_std=True)\n",
    "\n",
    "# probability of improvement acquisition function\n",
    "def acquisition(X, Xsamples, model):\n",
    "    # calculate the best surrogate score found so far\n",
    "    yhat, _ = surrogate(model, X)\n",
    "    best = max(yhat)\n",
    "    # calculate mean and stdev via surrogate function\n",
    "    mu, std = surrogate(model, Xsamples)\n",
    "    # calculate the probability of improvement\n",
    "    probs = norm.cdf((mu - best) / (std+1E-9))\n",
    "    return probs\n",
    "\n",
    "# optimize the acquisition function\n",
    "def opt_acquisition(X, y, model):\n",
    "    # random search, generate random samples\n",
    "    Xsamples = random(100)\n",
    "    Xsamples = Xsamples.reshape(len(Xsamples), 1)\n",
    "    # calculate the acquisition function for each sample\n",
    "    scores = acquisition(X, Xsamples, model)\n",
    "    # locate the index of the largest scores\n",
    "    ix = argmax(scores)\n",
    "    return Xsamples[ix, 0]\n",
    "\n",
    "# plot real observations vs surrogate function\n",
    "def plot(X, y, model):\n",
    "    # scatter plot of inputs and real objective function\n",
    "    pyplot.scatter(X, y)\n",
    "    # line plot of surrogate function across domain\n",
    "    Xsamples = asarray(arange(0, 1, 0.001))\n",
    "    Xsamples = Xsamples.reshape(len(Xsamples), 1)\n",
    "    ysamples, _ = surrogate(model, Xsamples)\n",
    "    pyplot.plot(Xsamples, ysamples)\n",
    "    # show the plot\n",
    "    pyplot.show()\n",
    "\n",
    "# sample the domain sparsely with noise\n",
    "X = random(100)\n",
    "y = asarray([objective(x) for x in X])\n",
    "# reshape into rows and cols\n",
    "X = X.reshape(len(X), 1)\n",
    "y = y.reshape(len(y), 1)\n",
    "# define the model\n",
    "model = GaussianProcessRegressor()\n",
    "# fit the model\n",
    "model.fit(X, y)\n",
    "# plot before hand\n",
    "plot(X, y, model)\n",
    "# perform the optimization process\n",
    "for i in range(100):\n",
    "    # select the next point to sample\n",
    "    x = opt_acquisition(X, y, model)\n",
    "    # sample the point\n",
    "    actual = objective(x)\n",
    "    # summarize the finding\n",
    "    est, _ = surrogate(model, [[x]])\n",
    "    print(f\">x={x:.3}, f()={est[0]:.3}, actual={actual:.3}\")\n",
    "    # add the data to the dataset\n",
    "    X = vstack((X, [[x]]))\n",
    "    y = vstack((y, [[actual]]))\n",
    "    # update the model\n",
    "    model.fit(X, y)\n",
    "\n",
    "# plot all samples and the final surrogate function\n",
    "plot(X, y, model)\n",
    "# best result\n",
    "ix = argmax(y)\n",
    "print(f\"Best Result: x={X[ix][0]:.3}, y={y[ix][0]:.3}\")"
   ]
  },
  {
   "cell_type": "code",
   "execution_count": null,
   "metadata": {},
   "outputs": [],
   "source": []
  },
  {
   "cell_type": "markdown",
   "metadata": {},
   "source": [
    "Finally, the best input and its objective function score are reported. We know the optima has an input of 0.9 and an output of 0.810."
   ]
  }
 ],
 "metadata": {
  "kernelspec": {
   "display_name": "colorbot2--_9kUS4P-py3.12",
   "language": "python",
   "name": "python3"
  },
  "language_info": {
   "codemirror_mode": {
    "name": "ipython",
    "version": 3
   },
   "file_extension": ".py",
   "mimetype": "text/x-python",
   "name": "python",
   "nbconvert_exporter": "python",
   "pygments_lexer": "ipython3",
   "version": "3.12.3"
  }
 },
 "nbformat": 4,
 "nbformat_minor": 4
}
