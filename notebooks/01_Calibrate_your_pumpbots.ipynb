{
 "cells": [
  {
   "cell_type": "markdown",
   "metadata": {},
   "source": [
    "# Welcome!\n",
    "\n",
    "Welcome to the first Jupyter notebook in the **AI-orchestrated self-driving labs** course. We will be using the Jupyter notebooks throughout the course. \n",
    "\n",
    "Since you are reading this, you have (probably) have managed to \n",
    "\n",
    "1.  Install `PumpController` and `Odyssey` packages \n",
    "2.  Download the notebooks for the course\n",
    "3.  Receive your pumpbot.\n",
    "\n",
    "You will get some basic information about course exercises in this notebook (consider it a teaser) with significantly \n",
    "more to follow. \n",
    "\n",
    "**The main purpose of this notebook is to verify that you can use the required software and that you can communicate \n",
    "with the PumpBot to calibrate its pumps.**\n",
    "\n",
    "## Exercise 1.1: Verify access to the PumpController\n",
    "\n",
    "We will now test to see if you have the `PumpController` and can establish a connection with your PumpBot. \n",
    "\n",
    "Import the necessary modules for the `PumpController`"
   ]
  },
  {
   "cell_type": "code",
   "execution_count": null,
   "metadata": {},
   "outputs": [],
   "source": [
    "from pump_controller import PumpController, get_serial_port, list_serial_ports\n",
    "from pump_controller import visualize_rgb, visualize_candidates\n",
    "import time\n",
    "import numpy as np\n",
    "print(\"Init finished!\")"
   ]
  },
  {
   "cell_type": "markdown",
   "metadata": {},
   "source": [
    "If you run the command above without any error messages, it means that you have successfully installed the `PumpController`.\n",
    "\n",
    "## Exercise 1.2 Establish connection to your pumpbot via USB serial or WIFI\n",
    "\n",
    "Now we initialize the `calibratebot`. You will have an option to connect to the PumpBot either through WiFi or USB. \n",
    "\n",
    "1. WIFI using MQTT: (USE THIS IF STUDENT)\n",
    "   1. If you are working remote without physical access to the machine, set the serial port to none: `ser_port = None`\n",
    "   2. If you are not remote, set the ser_port to `get_serial_port()`. This will help feed the machine the wifi credentials you've been giving in your mqtt_secrets.py file handed by the intructors.\n",
    "   \n",
    "2. USB serial\n",
    "We need to figure out which port that the controller is connected to your computer. The `get_serial_port()` function should automatically do this for you, but things have a way of failing when you need them not to. That is why you can call the `list_serial_ports()` function to see all the ports on your computer, and you can simply use the correct port as a string input instead of using the `get_serial_port` function, if the command below does not work. \n",
    "\n",
    "The `cell_volume` and `drain_time` properties are already defined to 20 mL and 20 seconds, respectively, but you have the option of changing them here. Notice that a folder called *logs* is created with a file with the current timestamp in it - this is where the colors that you mix on this controller in this session will be stored.\n",
    "\n",
    "\n",
    "We start with the `config_template.json` file as the `config_file` to begin with, but we will make our own in this tutorial.\n",
    "\n",
    "Let's run the initialization command below."
   ]
  },
  {
   "cell_type": "code",
   "execution_count": null,
   "metadata": {},
   "outputs": [],
   "source": [
    "# WiFi \n",
    "calibratebot = PumpController(ser_port = None, cell_volume = 5, drain_time = 10, config_file=\"./config_files/config.json\")\n",
    "\n",
    "## USB connection\n",
    "# calibratebot = PumpController(ser_port = get_serial_port(), cell_volume = 5, drain_time = 10, config_file = \"./config_files/config.json\")"
   ]
  },
  {
   "cell_type": "markdown",
   "metadata": {},
   "source": [
    "If you have successfully initialized the pumpbot, you will see the \"PumpBot is ready\" message. If the \"PumpBot is ready\" message doesn't show up, press the reset button on the PumpBot.\n",
    "\n",
    "Do you see the message? If so, you are now ready to move on to the next step.\n",
    "\n",
    "## MQTT communication (only relavant for WiFi mode, skip if using USB mode).\n",
    "\n",
    "Communicating over MQTT is done via topics, that clients can pupblish and sbscirbe to. The PumpBot subscribes to the **/command** topic, and sends data return on the /data topic. The computer clients does the opposite. The data send is formated as json.\n",
    "Now we can try sending messages on the MQTT topic /command. \n",
    "- Send a command on the topic /command:"
   ]
  },
  {
   "cell_type": "code",
   "execution_count": null,
   "metadata": {},
   "outputs": [],
   "source": [
    "#Only for WiFi MODE:\n",
    "calibratebot.mqtt_task_manager(\"hello_PumpBot\")"
   ]
  },
  {
   "cell_type": "markdown",
   "metadata": {},
   "source": [
    "## Exercise 1.3: Controlling the pumps of your pumpbot\n",
    "\n",
    "For calibrating the pumps, we will not be using the test cell, but running the liquid from the respective bottles into a bottle on the scale. So removing the hoses from the test cell and place such that they dispense onto a bottle on the weighing scale.\n",
    "\n",
    "Before doing anything else, we should purge all the pumps. This means filling all of the tubes with their respective liquids. We do this by using the `purge_pump` function, which takes the pump name ('R', 'G', 'B', 'Y', 'W', 'D') and the time (in seconds) to run the pump, as variables. \n",
    "\n",
    "As you can probably guess, the names correspond to the following:\n",
    "\n",
    "* 'R': red\n",
    "* 'G': green\n",
    "* 'B': blue\n",
    "* 'Y': yellow\n",
    "* 'W': water\n",
    "* 'D': drain\n",
    "   \n",
    "Do this one-by-one until all tubes are filled with liquid. The drain tubes of course do not need to be purged. \n",
    "\n",
    "After purging the red, green, blue, yellow and water pumps, empty the weighing bottle."
   ]
  },
  {
   "cell_type": "code",
   "execution_count": null,
   "metadata": {},
   "outputs": [],
   "source": [
    "\n",
    "seconds_run = 1\n",
    "\n",
    "#RGBY\n",
    "#calibratebot.purge_pump('R', seconds_run)\n",
    "#calibratebot.purge_pump('G', seconds_run)\n",
    "#calibratebot.purge_pump('B', seconds_run)\n",
    "#calibratebot.purge_pump('Y', seconds_run)#\n",
    "\n",
    "## Water\n",
    "#calibratebot.purge_pump('W', seconds_run)\n",
    "\n",
    "# Drain\n",
    "calibratebot.drain(drain_time = seconds_run*6)\n",
    "\n",
    "# Flush:\n",
    "#calibratebot.flush()"
   ]
  },
  {
   "cell_type": "markdown",
   "metadata": {},
   "source": [
    "#### Request RGB measure from color sensor:"
   ]
  },
  {
   "cell_type": "code",
   "execution_count": null,
   "metadata": {},
   "outputs": [],
   "source": [
    "rgb = calibratebot.measure()\n"
   ]
  },
  {
   "cell_type": "markdown",
   "metadata": {},
   "source": [
    "#### Request pH measurement:"
   ]
  },
  {
   "cell_type": "code",
   "execution_count": null,
   "metadata": {},
   "outputs": [],
   "source": [
    "ph = calibratebot.get_ph()\n",
    "print(f\"pH value: {ph}\")"
   ]
  },
  {
   "cell_type": "markdown",
   "metadata": {},
   "source": [
    "## Exercise 1.4: Calibrating the pumps\n",
    "\n",
    "Now we want to calibrate the pumps. We need to figure out how many mL of water comes out of the pump for every second that we run it. We do this by running the pump for certains amounts of times and weigh the amount of liquid that is output. We can then do a linear regression in Excel to find the slope and the offset for each pump. As each pump is different, these values will also be different. \n",
    "\n",
    "\n",
    "The `calibration_test` function cycles through different amounts of time of running the pumps, and waits for 5 seconds. In these 5 seconds, your job is to read the measurement on the weighing scale and note it down in the Excel sheet."
   ]
  },
  {
   "cell_type": "code",
   "execution_count": null,
   "metadata": {},
   "outputs": [],
   "source": [
    "times = [0.1, 0.2, 0.4, 0.8, 1.0, 1.6, 2.0, 2.5, 3.0, 5.0, 7.0, 8.0]\n",
    "\n",
    "def calibration_test(pump, times):\n",
    "    for t in times:\n",
    "        calibratebot.purge_pump(pump, t)\n",
    "        print(f\"sleeping after {t} on {pump}\")\n",
    "        print(\"-----------\")\n",
    "        print()\n",
    "        \n",
    "        time.sleep(5.0)"
   ]
  },
  {
   "cell_type": "markdown",
   "metadata": {},
   "source": [
    "Let's run the calibration now! \n",
    "\n",
    "Open up the `calibrate_files/pump_calibration_template.xlsx` file and get ready to note down the weights. Optimally, you should do three calibrations for each pump - this results in 6 x 3 = 18 calibrations. If you are pressed for time, just do one calibration per pump and copy the results to the other columns for the same pump. \n",
    "\n",
    "Finally, you can take the average `a` (slope) and `b` (intercept) values on the `Main` page of the Excel sheet and write them into a `config.json file`. A template for this is given in `config_files/config_template.json`. Do not change the `pin` values for the different pumps!"
   ]
  },
  {
   "cell_type": "code",
   "execution_count": null,
   "metadata": {},
   "outputs": [],
   "source": [
    "times = np.linspace(0.0, 0.2, 11)\n",
    "\n",
    "calibration_test('W', times)\n",
    "\n",
    "# calibration_test('G', times)\n",
    "# calibration_test('B', times)\n",
    "# calibration_test('Y', times)\n",
    "# calibration_test('W', times)\n",
    "# calibration_test('D', times)"
   ]
  },
  {
   "cell_type": "markdown",
   "metadata": {},
   "source": [
    "Take these calibration slope and intercept values for each of the pumps, and note them down in the `config.json` file"
   ]
  },
  {
   "cell_type": "markdown",
   "metadata": {},
   "source": []
  }
 ],
 "metadata": {
  "kernelspec": {
   "display_name": "ai-orchestrated-sdl-HM1YmV5R-py3.12",
   "language": "python",
   "name": "python3"
  },
  "language_info": {
   "codemirror_mode": {
    "name": "ipython",
    "version": 3
   },
   "file_extension": ".py",
   "mimetype": "text/x-python",
   "name": "python",
   "nbconvert_exporter": "python",
   "pygments_lexer": "ipython3",
   "version": "3.12.3"
  }
 },
 "nbformat": 4,
 "nbformat_minor": 4
}
